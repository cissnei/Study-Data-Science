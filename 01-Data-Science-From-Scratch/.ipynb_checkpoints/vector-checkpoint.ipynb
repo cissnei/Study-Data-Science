{
 "cells": [
  {
   "cell_type": "markdown",
   "metadata": {},
   "source": [
    "# Welcome to linear algebra!"
   ]
  },
  {
   "cell_type": "markdown",
   "metadata": {},
   "source": [
    "Linear algebra is the study of vectors and linear functions\n",
    "\n",
    "벡터는 벡터끼리 더하거나 상수와 곱해지면 새로운 벡터를 생성하는 개념적인 도구이다.\n",
    "더 자세히 설명하면, 벡터는 어떤 유한한 차원의 공간에 존재하는 점들이다.\n",
    "\n",
    "대부분의 데이터, 숫자로 표현된 데이터는 벡터로 표현할 수 있다.\n",
    "\n",
    "예를 들어 수많은 사람들의 키, 몸무게, 나이에 대한 데이터가 주어졌다고 해보자. 그렇다면 주어진 데이터를 키, 몸무게, 나이로 구성된 3차원 벡터로 표현할 수 있을 것이다.\n",
    "\n",
    "또 다른 예로, 시험을 네 번 보는 수업을 가르친다면 각 학생의 성적을\n",
    "'시험1 점수 시험2 점수 시험3 점수 시험4 점수'\n",
    "로 구성된 4차원 벡터로 표현할 수 있을 것이다.\n",
    "\n",
    "벡터를 가장 간단하게 표현하는 방법은 숫자로 구성된 list로 표현하는 것이다.\n",
    "예를 들어, 3차원 벡터는 세 개의 숫자로 구성된 list로 표현할 수 있다."
   ]
  },
  {
   "cell_type": "code",
   "execution_count": 2,
   "metadata": {
    "collapsed": true
   },
   "outputs": [],
   "source": [
    "키_몸무게_나이 = [174, 60, 17]\n",
    "성적 = [95, 85, 74, 92]"
   ]
  },
  {
   "cell_type": "markdown",
   "metadata": {},
   "source": [
    "list로 벡터를 표현하는 방법의 문제점은 list를 통해 벡터 연산을 할 수 없다는 점이다.\n",
    "python의 list는 벡터 연산 도구가 아니기 때문에 벡터 연산을 위한 도구를 직접 만들어보자.\n",
    "\n",
    "-\n",
    "\n",
    "두 개의 벡터를 더한다는 것은, 각 벡터 상에서 같은 위치에 있는 성분끼리 더한다는 것이다. 가령 길이가 같은 v와 w라는 두 벡터를 더하면 계산된 새로운 벡터의 첫 번째 성분은 v[0] + w[0] 두 번째 성분은 v[1] + w[1] 등등으로 구성된다. (만약 두 벡터의 길이가 다르면 두 벡터를 더할 수 없다.)\n",
    "\n",
    "벡터 덧셈은 zip을 사용해서 두 벡터를 묶은 뒤, 두 배열의 각 성분끼리 더하는 list comprehension을 적용하면 된다."
   ]
  },
  {
   "cell_type": "code",
   "execution_count": 5,
   "metadata": {
    "collapsed": false
   },
   "outputs": [],
   "source": [
    "from functools import reduce\n",
    "from operator import mul\n",
    "\n",
    "\"\"\"각 성분끼리 더한다.\"\"\"\n",
    "def vector_add(v, w):\n",
    "    return [v_i + w_i for v_i, w_i in zip(v, w)]\n",
    "\n",
    "\"\"\"각 성분끼리 뺀다.\"\"\"\n",
    "def vector_substract(v, w):\n",
    "    return [v_i - w_i for v_i, w_i in zip(v, w)]\n",
    "\n",
    "\"\"\"각 성분들끼리 더한다\"\"\"\n",
    "def vector_sum(vectors):\n",
    "    return reduce(vector_add, vectors)"
   ]
  },
  {
   "cell_type": "code",
   "execution_count": 6,
   "metadata": {
    "collapsed": false
   },
   "outputs": [
    {
     "name": "stdout",
     "output_type": "stream",
     "text": [
      "[174, 60, 17] [95, 85, 74, 92]\n",
      "[(174, 95), (60, 85), (17, 74)]\n",
      "[269, 145, 91]\n",
      "[79, -25, -57]\n"
     ]
    }
   ],
   "source": [
    "print(키_몸무게_나이, 성적)\n",
    "print(list(zip(키_몸무게_나이, 성적)))\n",
    "print(vector_add(키_몸무게_나이, 성적))\n",
    "print(vector_substract(키_몸무게_나이, 성적))"
   ]
  },
  {
   "cell_type": "markdown",
   "metadata": {
    "collapsed": false
   },
   "source": [
    "## What is scalar?\n",
    "\n",
    "집합 = 같은 성질을 가진 대상의 모임\n",
    "```python\n",
    "grade = [50,12,78,20,85,94]\n",
    "```\n",
    "체 = 사칙연산을 자유롭게 할 수 있는 수들의 집합\n",
    "\n",
    "체 F와 집합 V에 대하여 V의 두 원소를 더하는 덧셈, V의 원소에 F를 곱하는 연산이 잘될 때 V를 F위에서 정의된 벡터 공간이라고 한다.\n",
    "V의 원소는 벡터이며 F의 원소는 스칼라이다.\n",
    "\n",
    "벡터의 내적은 Scalar product (스칼라곱) 또는 Dot Product 라고도 하며, 기호로 · (Dot)을 쓴다.\n",
    "벡터의 내적을 구하는 방법은 두가지가 있는데,  \n",
    "첫번째가 좌표값의 각 성분을 곱해 더하는 것이다.\n",
    "\n",
    "A=[4,3]  \n",
    "B=[6,0]  \n",
    "A·B (A와 B의 내적)  \n",
    "= (AxBx)+(AyBy)  \n",
    "= (4x6)+(3*0) = 24"
   ]
  },
  {
   "cell_type": "code",
   "execution_count": 18,
   "metadata": {
    "collapsed": true
   },
   "outputs": [],
   "source": [
    "# 스칼라곱\n",
    "def scalar_multiply(c, v):\n",
    "    \"\"\"c는 숫자, v는 벡터\"\"\"\n",
    "    return [c * v_i for v_i in v]\n",
    "\n",
    "# 같은 길이의 벡터list가 주어졌을 때 각 성분별 평균 구하기\n",
    "\n",
    "def vector_mean(vectors):\n",
    "    \"\"\"성분의 갯수/1 * 성분의 합 = 성분별 평균\"\"\"\n",
    "    n = len(vectors)\n",
    "    return scalar_multiply(1/n, vector_sum(vectors))\n",
    "\n",
    "# 벡터의 내적은 벡터의 각 성분별 곱한 값을 더해준 값이다.\n",
    "\n",
    "def dot(v, w):\n",
    "    \"\"\"v_i * w_i + ... + v_n * w_n\"\"\"\n",
    "    return sum(v_i * w_i for v_i, w_i in zip(v,w))"
   ]
  },
  {
   "cell_type": "markdown",
   "metadata": {},
   "source": [
    "내적은 벡터 V가 벡터 W 방향으로 얼마나 멀리 뻗어 나가는지를 나타낸다.\n",
    "예를 들어 w = [1, 0]이면 dot(v, w)는 v의 첫 번째 성분이다."
   ]
  },
  {
   "cell_type": "code",
   "execution_count": 20,
   "metadata": {
    "collapsed": false
   },
   "outputs": [
    {
     "data": {
      "text/plain": [
       "24"
      ]
     },
     "execution_count": 20,
     "metadata": {},
     "output_type": "execute_result"
    }
   ],
   "source": [
    "dot([4,3],[6,0])"
   ]
  },
  {
   "cell_type": "code",
   "execution_count": 29,
   "metadata": {
    "collapsed": false
   },
   "outputs": [
    {
     "data": {
      "text/plain": [
       "25"
      ]
     },
     "execution_count": 29,
     "metadata": {},
     "output_type": "execute_result"
    }
   ],
   "source": [
    "def sum_of_square(v):\n",
    "    \"\"\"v_1 * v_1 + ... v_n * v_n\"\"\"\n",
    "    return dot(v, v)\n",
    "\n",
    "sum_of_square([4,3])"
   ]
  },
  {
   "cell_type": "code",
   "execution_count": 35,
   "metadata": {
    "collapsed": false
   },
   "outputs": [],
   "source": [
    "import math\n",
    "\n",
    "# 벡터의 크기를 계산해보자. \n",
    "# 벡터의 크기 = root벡터의 제곱의 합\n",
    "def magnitude(v):\n",
    "    return math.sqrt(sum_of_square(v)) # math.sqrt는 제곱근을 계산해준다."
   ]
  },
  {
   "cell_type": "code",
   "execution_count": 36,
   "metadata": {
    "collapsed": false
   },
   "outputs": [
    {
     "data": {
      "text/plain": [
       "5.0"
      ]
     },
     "execution_count": 36,
     "metadata": {},
     "output_type": "execute_result"
    }
   ],
   "source": [
    "magnitude([4,3])"
   ]
  },
  {
   "cell_type": "markdown",
   "metadata": {},
   "source": [
    "이제 두 벡터간의 거리를 계산하기 위해 필요한 모든 것이 준비되었다. 두 벡터간의 거리는 다음과 같이 정의된다.\n",
    "\n",
    "$$\\sqrt{(v_1 - w_1)^2+...+(v_2 - w_2)^2}$$"
   ]
  },
  {
   "cell_type": "code",
   "execution_count": 41,
   "metadata": {
    "collapsed": false
   },
   "outputs": [
    {
     "name": "stdout",
     "output_type": "stream",
     "text": [
      "18\n",
      "3.1622776601683795\n",
      "3.1622776601683795\n"
     ]
    }
   ],
   "source": [
    "def squared_distance(v, w):\n",
    "    \"\"\"(v_1)\"\"\"\n",
    "    return sum_of_square(vector_substract(v,w))\n",
    "\n",
    "print(squared_distance([1,3],[4,6]))\n",
    "\n",
    "def distance1(v, w):\n",
    "    return math.sqrt(squared_distance(v, w))\n",
    "\n",
    "def distance2(v, w):\n",
    "    return magnitude(vector_substract(v, w))\n",
    "\n",
    "print(distance1([1,3],[4,2]))\n",
    "print(distance2([1,3],[4,2]))"
   ]
  },
  {
   "cell_type": "markdown",
   "metadata": {},
   "source": [
    "벡터를 list로 표현하는 것은 벡터의 원리를 설명하는데 편리하지만 끔찎한 성능을 보인다. 실제로 코딩을 할 때는 성능도 좋고 다양한 연산이 이미 구현된 NumPy 라이브러리를 사용하자."
   ]
  },
  {
   "cell_type": "markdown",
   "metadata": {},
   "source": [
    "## 행렬(Matrix)\n",
    "행렬은 2차원으로 구성된 숫자의 집합이며, list의 list로 표현할 수 있다. list 안의 list들은 행렬의 행을 나타내며 모두 같은 길이를 가지게 된다.  \n",
    "예를 들어 A라는 행렬에서 A[i][j]는 1번째 행과 j번째 열에 속한 숫자를 의미한다."
   ]
  },
  {
   "cell_type": "code",
   "execution_count": 44,
   "metadata": {
    "collapsed": true
   },
   "outputs": [],
   "source": [
    "# A는 2개의 행과 3개의 열로 구성되어 있다.\n",
    "A = [[1,2,3],[4,5,6]]\n",
    "\n",
    "# B는 3개의 행과 2개의 열로 구성되어 있다.\n",
    "B = [[1,2],[3,4],[5,6]]"
   ]
  },
  {
   "cell_type": "markdown",
   "metadata": {},
   "source": [
    "행렬을 list들의 list로 나타내는 경우, 행렬 A는 len(A)개의 행과 len(A[0])개의 열로 구성되어 있다. 이와 같은 행렬의 형태는 다음과 같이 계산할 수 있다."
   ]
  },
  {
   "cell_type": "code",
   "execution_count": 47,
   "metadata": {
    "collapsed": false
   },
   "outputs": [],
   "source": [
    "def shape(A):\n",
    "    num_rows = len(A)\n",
    "    num_cols = len(A[0]) if A else 0\n",
    "    return num_rows, num_cols"
   ]
  },
  {
   "cell_type": "code",
   "execution_count": 52,
   "metadata": {
    "collapsed": false
   },
   "outputs": [
    {
     "data": {
      "text/plain": [
       "(2, 3)"
      ]
     },
     "execution_count": 52,
     "metadata": {},
     "output_type": "execute_result"
    }
   ],
   "source": [
    "shape(A)"
   ]
  },
  {
   "cell_type": "code",
   "execution_count": 53,
   "metadata": {
    "collapsed": true
   },
   "outputs": [],
   "source": [
    "def make_matrix(num_rows, num_cols, entry_fn):\n",
    "    return [[entry_fn(i, j)\n",
    "            for j in range(num_cols)\n",
    "            for i in range(num_rows)]]"
   ]
  },
  {
   "cell_type": "code",
   "execution_count": 62,
   "metadata": {
    "collapsed": false
   },
   "outputs": [],
   "source": [
    "def is_diagnoal(i, j):\n",
    "    \"\"\"대각선의 원소는 1, 나머지는 0\"\"\"\n",
    "    return 1 if i is j else 0"
   ]
  },
  {
   "cell_type": "code",
   "execution_count": null,
   "metadata": {
    "collapsed": true
   },
   "outputs": [],
   "source": [
    "make_matrix()"
   ]
  },
  {
   "cell_type": "code",
   "execution_count": 67,
   "metadata": {
    "collapsed": false
   },
   "outputs": [
    {
     "data": {
      "text/plain": [
       "[[1, 0, 0, 0, 0, 0, 1, 0, 0, 0, 0, 0, 1, 0, 0, 0, 0, 0, 1, 0, 0, 0, 0, 0, 1]]"
      ]
     },
     "execution_count": 67,
     "metadata": {},
     "output_type": "execute_result"
    }
   ],
   "source": [
    "identify_matrix = make_matrix(5,5,is_diagnoal)\n",
    "identify_matrix"
   ]
  },
  {
   "cell_type": "markdown",
   "metadata": {},
   "source": [
    "행렬은 몇 가지 이유로 매우 중요하다.\n",
    "먼저 각 벡터를 행렬의 행으로 나타내면 여러 벡터로 구성된 데이터셋을 행렬로 표현할 수 있다. 예컨데 1000명에 대한 키, 몸무게, 나이가 주어졌다면 1000 x 3 행렬로 표현할 수 있다.\n",
    "\n",
    "두 번째로, k차우너의 벡터를 n차원 벡터로 변환해주는 선형함수를 n x k 행렬로 표현할 수 있다.\n",
    "\n",
    "세 번째로, 행렬로 이진 관계(binary relationship)을 나타낼 수 있다.\n",
    "\n",
    "```python\n",
    "friendships = [[0, 1, 1, 0, 0, 0, 0, 0, 0, 0], # 사용자 0\n",
    "               [1, 0, 1, 1, 0, 0, 0, 0, 0, 0]] # 사용자 1\n",
    "```\n",
    "만약 네트워크에 연결된 사용자 수가 적다면 행렬은 수 많은 0값을 저장해야 해 비효율적이다.\n",
    "하지만 행렬에서는 두 사용자가 연결되어 있는지 훨씬 빠르게 확인할 수 있다. 직접 행렬의 값만 보면 되기 때문이다.\n",
    "\n",
    "```python\n",
    "friendships[0][2]\n",
    "1\n",
    "friendships[1][4]\n",
    "1\n",
    "```\n",
    "사용자가 누구와 연결되어 있는지 확인하기 위해서는 해당 사용자를 나타내는 열(또는 행)만 보면 된다."
   ]
  },
  {
   "cell_type": "code",
   "execution_count": 77,
   "metadata": {
    "collapsed": false
   },
   "outputs": [
    {
     "data": {
      "text/plain": [
       "[1, 2]"
      ]
     },
     "execution_count": 77,
     "metadata": {},
     "output_type": "execute_result"
    }
   ],
   "source": [
    "friendships = [[0, 1, 1, 0, 0, 0, 0, 0, 0, 0], # 사용자 0\n",
    "               [1, 0, 1, 1, 0, 0, 0, 0, 0, 0]] # 사용자 1\n",
    "friends_of_zero = [i for i, is_friend in enumerate(friendships[0]) if is_friend]\n",
    "friends_of_zero"
   ]
  },
  {
   "cell_type": "code",
   "execution_count": null,
   "metadata": {
    "collapsed": true
   },
   "outputs": [],
   "source": []
  }
 ],
 "metadata": {
  "anaconda-cloud": {},
  "kernelspec": {
   "display_name": "Python [default]",
   "language": "python",
   "name": "python3"
  },
  "language_info": {
   "codemirror_mode": {
    "name": "ipython",
    "version": 3
   },
   "file_extension": ".py",
   "mimetype": "text/x-python",
   "name": "python",
   "nbconvert_exporter": "python",
   "pygments_lexer": "ipython3",
   "version": "3.5.2"
  }
 },
 "nbformat": 4,
 "nbformat_minor": 1
}
