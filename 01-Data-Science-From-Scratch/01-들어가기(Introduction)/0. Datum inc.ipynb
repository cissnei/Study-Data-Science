{
 "cells": [
  {
   "cell_type": "code",
   "execution_count": 1,
   "metadata": {
    "collapsed": false
   },
   "outputs": [],
   "source": [
    "users = [\n",
    "         { \"id\": 0, \"이름\": \"철수\" },\n",
    "         { \"id\": 1, \"이름\": \"영희\" },\n",
    "         { \"id\": 2, \"이름\": \"수영\" },\n",
    "         { \"id\": 3, \"이름\": \"인수\" },\n",
    "         { \"id\": 4, \"이름\": \"혁재\" },\n",
    "         { \"id\": 5, \"이름\": \"유진\" },\n",
    "         { \"id\": 6, \"이름\": \"상현\" },\n",
    "         { \"id\": 7, \"이름\": \"수연\" },\n",
    "         { \"id\": 8, \"이름\": \"도현\" },\n",
    "         { \"id\": 9, \"이름\": \"가은\" }\n",
    "]\n",
    "\n",
    "friendships = [(0,1), (0,2), (1,2), (1,3), (2,3), (3,4),\n",
    "               (4,5), (5,6), (5,7), (6,8), (7,8), (8,9)]"
   ]
  },
  {
   "cell_type": "code",
   "execution_count": 2,
   "metadata": {
    "collapsed": false
   },
   "outputs": [],
   "source": [
    "for user in users:\n",
    "    user[\"friends\"] = []"
   ]
  },
  {
   "cell_type": "code",
   "execution_count": 3,
   "metadata": {
    "collapsed": false
   },
   "outputs": [],
   "source": [
    "for i, j in friendships:\n",
    "    users[i][\"friends\"].append(users[j])\n",
    "    users[j][\"friends\"].append(users[i])"
   ]
  },
  {
   "cell_type": "code",
   "execution_count": 5,
   "metadata": {
    "collapsed": false
   },
   "outputs": [
    {
     "data": {
      "text/plain": [
       "{'friends': [{'friends': [{...},\n",
       "    {'friends': [{...},\n",
       "      {...},\n",
       "      {'friends': [{...},\n",
       "        {...},\n",
       "        {'friends': [{...},\n",
       "          {'friends': [{...},\n",
       "            {'friends': [{...},\n",
       "              {'friends': [{...},\n",
       "                {'friends': [{...}, {...}], 'id': 7, '이름': '수연'},\n",
       "                {'friends': [{...}], 'id': 9, '이름': '가은'}],\n",
       "               'id': 8,\n",
       "               '이름': '도현'}],\n",
       "             'id': 6,\n",
       "             '이름': '상현'},\n",
       "            {'friends': [{...},\n",
       "              {'friends': [{'friends': [{...}, {...}], 'id': 6, '이름': '상현'},\n",
       "                {...},\n",
       "                {'friends': [{...}], 'id': 9, '이름': '가은'}],\n",
       "               'id': 8,\n",
       "               '이름': '도현'}],\n",
       "             'id': 7,\n",
       "             '이름': '수연'}],\n",
       "           'id': 5,\n",
       "           '이름': '유진'}],\n",
       "         'id': 4,\n",
       "         '이름': '혁재'}],\n",
       "       'id': 3,\n",
       "       '이름': '인수'}],\n",
       "     'id': 2,\n",
       "     '이름': '수영'},\n",
       "    {'friends': [{...},\n",
       "      {'friends': [{...}, {...}, {...}], 'id': 2, '이름': '수영'},\n",
       "      {'friends': [{...},\n",
       "        {'friends': [{...},\n",
       "          {'friends': [{...},\n",
       "            {'friends': [{...},\n",
       "              {'friends': [{...}, {...}], 'id': 7, '이름': '수연'},\n",
       "              {'friends': [{...}], 'id': 9, '이름': '가은'}],\n",
       "             'id': 8,\n",
       "             '이름': '도현'}],\n",
       "           'id': 6,\n",
       "           '이름': '상현'},\n",
       "          {'friends': [{...},\n",
       "            {'friends': [{'friends': [{...}, {...}], 'id': 6, '이름': '상현'},\n",
       "              {...},\n",
       "              {'friends': [{...}], 'id': 9, '이름': '가은'}],\n",
       "             'id': 8,\n",
       "             '이름': '도현'}],\n",
       "           'id': 7,\n",
       "           '이름': '수연'}],\n",
       "         'id': 5,\n",
       "         '이름': '유진'}],\n",
       "       'id': 4,\n",
       "       '이름': '혁재'}],\n",
       "     'id': 3,\n",
       "     '이름': '인수'}],\n",
       "   'id': 1,\n",
       "   '이름': '영희'},\n",
       "  {'friends': [{...},\n",
       "    {'friends': [{...},\n",
       "      {...},\n",
       "      {'friends': [{...},\n",
       "        {...},\n",
       "        {'friends': [{...},\n",
       "          {'friends': [{...},\n",
       "            {'friends': [{...},\n",
       "              {'friends': [{...},\n",
       "                {'friends': [{...}, {...}], 'id': 7, '이름': '수연'},\n",
       "                {'friends': [{...}], 'id': 9, '이름': '가은'}],\n",
       "               'id': 8,\n",
       "               '이름': '도현'}],\n",
       "             'id': 6,\n",
       "             '이름': '상현'},\n",
       "            {'friends': [{...},\n",
       "              {'friends': [{'friends': [{...}, {...}], 'id': 6, '이름': '상현'},\n",
       "                {...},\n",
       "                {'friends': [{...}], 'id': 9, '이름': '가은'}],\n",
       "               'id': 8,\n",
       "               '이름': '도현'}],\n",
       "             'id': 7,\n",
       "             '이름': '수연'}],\n",
       "           'id': 5,\n",
       "           '이름': '유진'}],\n",
       "         'id': 4,\n",
       "         '이름': '혁재'}],\n",
       "       'id': 3,\n",
       "       '이름': '인수'}],\n",
       "     'id': 1,\n",
       "     '이름': '영희'},\n",
       "    {'friends': [{'friends': [{...}, {...}, {...}], 'id': 1, '이름': '영희'},\n",
       "      {...},\n",
       "      {'friends': [{...},\n",
       "        {'friends': [{...},\n",
       "          {'friends': [{...},\n",
       "            {'friends': [{...},\n",
       "              {'friends': [{...}, {...}], 'id': 7, '이름': '수연'},\n",
       "              {'friends': [{...}], 'id': 9, '이름': '가은'}],\n",
       "             'id': 8,\n",
       "             '이름': '도현'}],\n",
       "           'id': 6,\n",
       "           '이름': '상현'},\n",
       "          {'friends': [{...},\n",
       "            {'friends': [{'friends': [{...}, {...}], 'id': 6, '이름': '상현'},\n",
       "              {...},\n",
       "              {'friends': [{...}], 'id': 9, '이름': '가은'}],\n",
       "             'id': 8,\n",
       "             '이름': '도현'}],\n",
       "           'id': 7,\n",
       "           '이름': '수연'}],\n",
       "         'id': 5,\n",
       "         '이름': '유진'}],\n",
       "       'id': 4,\n",
       "       '이름': '혁재'}],\n",
       "     'id': 3,\n",
       "     '이름': '인수'}],\n",
       "   'id': 2,\n",
       "   '이름': '수영'}],\n",
       " 'id': 0,\n",
       " '이름': '철수'}"
      ]
     },
     "execution_count": 5,
     "metadata": {},
     "output_type": "execute_result"
    }
   ],
   "source": [
    "users[0]"
   ]
  },
  {
   "cell_type": "code",
   "execution_count": 6,
   "metadata": {
    "collapsed": false
   },
   "outputs": [],
   "source": [
    "def number_of_friends(user):\n",
    "    \"\"\"user의 친구가 몇 명일까?\"\"\"\n",
    "    return len(user[\"friends\"])\n",
    "\n",
    "total_connections = sum(number_of_friends(user)\n",
    "                        for user in users)"
   ]
  },
  {
   "cell_type": "code",
   "execution_count": 7,
   "metadata": {
    "collapsed": false
   },
   "outputs": [],
   "source": [
    "num_users = len(users)\n",
    "avg_connections = total_connections / num_users"
   ]
  },
  {
   "cell_type": "code",
   "execution_count": 8,
   "metadata": {
    "collapsed": true
   },
   "outputs": [],
   "source": [
    "num_friends_by_id = [(user[\"id\"], number_of_friends(user))\n",
    "                     for user in users]"
   ]
  },
  {
   "cell_type": "code",
   "execution_count": 9,
   "metadata": {
    "collapsed": false
   },
   "outputs": [
    {
     "name": "stdout",
     "output_type": "stream",
     "text": [
      "users sorted by number of friends:\n"
     ]
    },
    {
     "data": {
      "text/plain": [
       "[(1, 3),\n",
       " (2, 3),\n",
       " (3, 3),\n",
       " (5, 3),\n",
       " (8, 3),\n",
       " (0, 2),\n",
       " (4, 2),\n",
       " (6, 2),\n",
       " (7, 2),\n",
       " (9, 1)]"
      ]
     },
     "execution_count": 9,
     "metadata": {},
     "output_type": "execute_result"
    }
   ],
   "source": [
    "print(\"users sorted by number of friends:\")\n",
    "sorted(num_friends_by_id,\n",
    "      key=lambda pair: pair[1],\n",
    "      reverse=True)"
   ]
  },
  {
   "cell_type": "code",
   "execution_count": 10,
   "metadata": {
    "collapsed": true
   },
   "outputs": [],
   "source": [
    "def friends_of_friend_ids_bad(user):\n",
    "    return [foaf[\"id\"]\n",
    "           for friend in user[\"friends\"]\n",
    "           for foaf in friend[\"friends\"]]"
   ]
  },
  {
   "cell_type": "code",
   "execution_count": 11,
   "metadata": {
    "collapsed": false
   },
   "outputs": [
    {
     "name": "stdout",
     "output_type": "stream",
     "text": [
      "[1, 2]\n",
      "[0, 2, 3]\n",
      "[0, 1, 3]\n",
      "[1, 2, 4]\n",
      "[3, 5]\n"
     ]
    }
   ],
   "source": [
    "print([friend[\"id\"] for friend in users[0][\"friends\"]])\n",
    "print([friend[\"id\"] for friend in users[1][\"friends\"]])\n",
    "print([friend[\"id\"] for friend in users[2][\"friends\"]])\n",
    "print([friend[\"id\"] for friend in users[3][\"friends\"]])\n",
    "print([friend[\"id\"] for friend in users[4][\"friends\"]])"
   ]
  },
  {
   "cell_type": "code",
   "execution_count": 12,
   "metadata": {
    "collapsed": false
   },
   "outputs": [
    {
     "name": "stdout",
     "output_type": "stream",
     "text": [
      "Counter({0: 2, 5: 1})\n"
     ]
    }
   ],
   "source": [
    "from collections import Counter\n",
    "\n",
    "def not_the_same(user, other_user):\n",
    "    \"\"\"만약 두 사용자의 id가 다르면 다른 사용자로 인식\"\"\"\n",
    "    return user[\"id\"] != other_user[\"id\"]\n",
    "\n",
    "def not_friends(user, other_user):\n",
    "    \"\"\"만약 other_user가 user[\"friends\"]에 포함되지 않으면\n",
    "    친구가 아닌 것으로 간주함.\n",
    "    즉, other_user를 not_the_same 함수를 사용해서\n",
    "    user[\"friends\"]에 포함된 사람과 다르다고 인식\"\"\"\n",
    "    \n",
    "    return all(not_the_same(friend, other_user)\n",
    "               for friend in user[\"friends\"])\n",
    "\n",
    "def friends_of_friend_ids(user):\n",
    "    return Counter(foaf[\"id\"]\n",
    "                   for friend in user[\"friends\"] # 사용자의 친구 개개인에 대해\n",
    "                   for foaf in friend[\"friends\"] # 그들의 친구를 세어보고\n",
    "                   if not_the_same(user, foaf)   # 친구의 친구중에 사용자 자신이 아니며,\n",
    "                   and not_friends(user, foaf))  # 사용자의 친구는 제외한다.\n",
    "\n",
    "print(friends_of_friend_ids(users[3]))"
   ]
  },
  {
   "cell_type": "code",
   "execution_count": 13,
   "metadata": {
    "collapsed": true
   },
   "outputs": [],
   "source": [
    "interests = [\n",
    "    (0, \"Hadoop\"), (0, \"Big Data\"), (0, \"HBase\"), (0, \"Java\"),\n",
    "    (0, \"Spark\"), (0, \"Storm\"), (0, \"Cassandra\"),\n",
    "    (1, \"NoSQL\"), (1, \"MongoDB\"), (1, \"Cassandra\"), (1, \"HBase\"),\n",
    "    (1, \"Postgres\"), (2, \"Python\"), (2, \"scikit-learn\"), (2, \"scipy\"),\n",
    "    (2, \"numpy\"), (2, \"statsmodels\"), (2, \"pandas\"), (3, \"R\"), (3, \"Python\"),\n",
    "    (3, \"statistics\"), (3, \"regression\"), (3, \"probability\"),\n",
    "    (4, \"machine learning\"), (4, \"regression\"), (4, \"decision trees\"),\n",
    "    (4, \"libsvm\"), (5, \"Python\"), (5, \"R\"), (5, \"Java\"), (5, \"C++\"),\n",
    "    (5, \"Haskell\"), (5, \"programming languages\"), (6, \"statistics\"),\n",
    "    (6, \"probability\"), (6, \"mathematics\"), (6, \"theory\"),\n",
    "    (7, \"machine learning\"), (7, \"scikit-learn\"), (7, \"Mahout\"),\n",
    "    (7, \"neural networks\"), (8, \"neural networks\"), (8, \"deep learning\"),\n",
    "    (8, \"Big Data\"), (8, \"artificial intelligence\"), (9, \"Hadoop\"),\n",
    "    (9, \"Java\"), (9, \"MapReduce\"), (9, \"Big Data\")\n",
    "]"
   ]
  },
  {
   "cell_type": "code",
   "execution_count": 14,
   "metadata": {
    "collapsed": true
   },
   "outputs": [],
   "source": [
    "def data_scientists_who_like(target_interest):\n",
    "    return [user_id\n",
    "           for user_id, user_interest in interests\n",
    "           if user_interest == target_interest]"
   ]
  },
  {
   "cell_type": "code",
   "execution_count": 15,
   "metadata": {
    "collapsed": true
   },
   "outputs": [],
   "source": [
    "from collections import defaultdict\n",
    "\n",
    "user_ids_by_interest = defaultdict(list)\n",
    "\n",
    "for user_id, interest in interests:\n",
    "    user_ids_by_interest[interest].append(user_id)\n",
    "\n",
    "#interests_by_user_id = defaultdict(list)\n",
    "\n",
    "#for user_id, interest in interests:\n",
    "#    interests_by_user_id[user_id].append(interest)"
   ]
  },
  {
   "cell_type": "code",
   "execution_count": 16,
   "metadata": {
    "collapsed": true
   },
   "outputs": [],
   "source": [
    "def most_common_interest_with(user):\n",
    "    return Counter(interested_user_id\n",
    "                  for interest in interests_by_user_id[user[\"id\"]]\n",
    "                  for interested_user_id in user_ids_by_interest[interest]\n",
    "                  if interested_user_id != user[\"id\"])"
   ]
  }
 ],
 "metadata": {
  "anaconda-cloud": {},
  "kernelspec": {
   "display_name": "Python [default]",
   "language": "python",
   "name": "python3"
  },
  "language_info": {
   "codemirror_mode": {
    "name": "ipython",
    "version": 3
   },
   "file_extension": ".py",
   "mimetype": "text/x-python",
   "name": "python",
   "nbconvert_exporter": "python",
   "pygments_lexer": "ipython3",
   "version": "3.5.2"
  }
 },
 "nbformat": 4,
 "nbformat_minor": 1
}
