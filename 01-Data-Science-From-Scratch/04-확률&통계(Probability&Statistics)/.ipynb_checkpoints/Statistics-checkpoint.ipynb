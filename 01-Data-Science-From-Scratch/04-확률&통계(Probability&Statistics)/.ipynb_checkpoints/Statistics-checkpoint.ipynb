{
 "cells": [
  {
   "cell_type": "code",
   "execution_count": 2,
   "metadata": {
    "collapsed": false
   },
   "outputs": [],
   "source": [
    "from matplotlib import pyplot as plt, pylab\n",
    "from numpy import random\n",
    "from collections import Counter"
   ]
  },
  {
   "cell_type": "code",
   "execution_count": 3,
   "metadata": {
    "collapsed": false
   },
   "outputs": [],
   "source": [
    "num_friend = []\n",
    "for i in range(100):\n",
    "    num_friend.append(random.randint(1,50))\n",
    "friend_counts = Counter(num_friend)"
   ]
  },
  {
   "cell_type": "code",
   "execution_count": 4,
   "metadata": {
    "collapsed": false
   },
   "outputs": [
    {
     "data": {
      "image/png": "[encoded data removed]",
      "text/plain": [
       "<matplotlib.figure.Figure at 0x2b6b1546e10>"
      ]
     },
     "metadata": {},
     "output_type": "display_data"
    }
   ],
   "source": [
    "xs = range(51)\n",
    "ys = [friend_counts[x] for x in xs]\n",
    "plt.bar(xs, ys, color='pink')\n",
    "plt.axis([0, 51, 0, 10])\n",
    "plt.title(\"Historgram of friend counts\")\n",
    "pylab.xlabel(\"Number of friends\")\n",
    "pylab.ylabel(\"Number of People\")\n",
    "plt.show()"
   ]
  },
  {
   "cell_type": "code",
   "execution_count": 5,
   "metadata": {
    "collapsed": false
   },
   "outputs": [
    {
     "data": {
      "text/plain": [
       "100"
      ]
     },
     "execution_count": 5,
     "metadata": {},
     "output_type": "execute_result"
    }
   ],
   "source": [
    "num_points = len(num_friend)\n",
    "num_points # 데이터의 갯수"
   ]
  },
  {
   "cell_type": "code",
   "execution_count": 6,
   "metadata": {
    "collapsed": false
   },
   "outputs": [
    {
     "name": "stdout",
     "output_type": "stream",
     "text": [
      "49\n",
      "1\n"
     ]
    }
   ],
   "source": [
    "largest_value = max(num_friend)\n",
    "smallest_value = min(num_friend)\n",
    "print(largest_value)\n",
    "print(smallest_value)"
   ]
  },
  {
   "cell_type": "code",
   "execution_count": 7,
   "metadata": {
    "collapsed": false
   },
   "outputs": [],
   "source": [
    "sorted_values = sorted(num_friend)\n",
    "smalles_value = sorted_values[0]\n",
    "second_smallest_value = sorted_values[1]\n",
    "largest_value = sorted_values[-1]\n",
    "second_largest_value = sorted_values[-2]"
   ]
  },
  {
   "cell_type": "markdown",
   "metadata": {},
   "source": [
    "## 중심 경향성\n",
    "\n",
    "데이터의 중심이 어디 있는지를 나타내는 중심 경향성(central tendency)지표는 중요하다.  \n",
    "대부분의 경우, 데이터의 값을 데이터의 수로 나눈 평균을 사용하게 된다."
   ]
  },
  {
   "cell_type": "code",
   "execution_count": 8,
   "metadata": {
    "collapsed": false
   },
   "outputs": [
    {
     "data": {
      "text/plain": [
       "25.9"
      ]
     },
     "execution_count": 8,
     "metadata": {},
     "output_type": "execute_result"
    }
   ],
   "source": [
    "def mean(x):\n",
    "    return sum(x) / len(x)\n",
    "\n",
    "mean(num_friend)"
   ]
  },
  {
   "cell_type": "markdown",
   "metadata": {},
   "source": [
    "가끔은 중앙값(median)도 필요하다.  \n",
    "데이터의 수가 홀수일 경우 정 가운데의 데이터, 데이터가 짝수일 경우 가운데의 두 데이터의 평균이 중앙값이 된다."
   ]
  },
  {
   "cell_type": "code",
   "execution_count": 9,
   "metadata": {
    "collapsed": false
   },
   "outputs": [
    {
     "name": "stdout",
     "output_type": "stream",
     "text": [
      "3\n",
      "3.5\n"
     ]
    }
   ],
   "source": [
    "data1 = [1,2,3,4,5]\n",
    "medianodd = data1[len(data1)//2]\n",
    "data2 = [1,2,3,4,5,6]\n",
    "medianeven = (data2[len(data2)//2-1]+data2[len(data2)//2])/2\n",
    "\n",
    "print(medianodd)\n",
    "print(medianeven)"
   ]
  },
  {
   "cell_type": "code",
   "execution_count": 35,
   "metadata": {
    "collapsed": false
   },
   "outputs": [
    {
     "data": {
      "text/plain": [
       "30.0"
      ]
     },
     "execution_count": 35,
     "metadata": {},
     "output_type": "execute_result"
    }
   ],
   "source": [
    "median3=(num_friend[len(num_friend)//2]+num_friend[len(num_friend)//2-1])/2\n",
    "median3\n",
    "\n",
    "# 이 median은 잘못됐다. 데이터를 정렬하지 않았으니까!"
   ]
  },
  {
   "cell_type": "code",
   "execution_count": 41,
   "metadata": {
    "collapsed": false
   },
   "outputs": [
    {
     "name": "stdout",
     "output_type": "stream",
     "text": [
      "26.0\n",
      "25.9\n"
     ]
    }
   ],
   "source": [
    "# 함수로 정의해보자.\n",
    "def median(v):\n",
    "    \"\"\"v의 중앙값을 계산\"\"\"\n",
    "    n = len(v)\n",
    "    sorted_v = sorted(v)\n",
    "    midpoint = n // 2\n",
    "    \n",
    "    if n % 2 is 1:\n",
    "        return sorted_v[midpoint]\n",
    "    \n",
    "    else:\n",
    "        return (sorted_v[midpoint-1]+sorted_v[midpoint])/2\n",
    "    \n",
    "# 중앙값    \n",
    "print(median(num_friend))\n",
    "\n",
    "# 평균값\n",
    "print(mean(num_friend))"
   ]
  },
  {
   "cell_type": "markdown",
   "metadata": {},
   "source": [
    "중앙값을 사용할 때도 있겠지만, 평균은 중앙값보다 계산하기도 간편하거니와 데이터가 변경되었을 때의 값 변화가 자연스럽다. 새로운 데이터 값이 주어졌을 때 값이 e(평균 이하치)라면 평균은 e/n만큼 증가할 것이다. 반면 중앙값을 갱신하기 위해선 데이터를 다시 정렬해야 한다.(Quicksearch 알고리즘을 사용하면 정렬없이 중앙값을 찾을 수 있다.) 주어질 값이 어떨지 모르며, 주어진 데이터에 중앙값이 변하지 않을 수도 있다.\n",
    "\n",
    "하지만 평균은 이상치에 민감하다. num_friend 네트워크에 200명의 친구를 가진 새 사용자가 있다고 하면 평균값은 그에 맞게 증가할테지만 중앙값은 변하지 않을 것이다.\n",
    "\n",
    "'이상치'가 나쁜 데이터에서 평균은 데이터에 대한 잘못된 정보가 될 수 있다.  \n",
    "예를 들자면 1980년대 노스캐롤라이나 대학의 전공 중 지리학과가 졸업생 초봉이 가장 높은 과로 조사되었으나, 그 이유는 지리학을 전공한 '마이클 조던의 초봉'(이상치) 때문이었다.\n",
    "\n",
    "---\n",
    "\n",
    "또 '분위'는 중앙값을 포괄하는 개념으로, 데이터의 특정 백분위보다 낮은 값을 뜻한다. (중앙값은 상위 50%의 데이터보다 작은 값)"
   ]
  },
  {
   "cell_type": "code",
   "execution_count": 49,
   "metadata": {
    "collapsed": false
   },
   "outputs": [
    {
     "data": {
      "text/plain": [
       "1"
      ]
     },
     "execution_count": 49,
     "metadata": {},
     "output_type": "execute_result"
    }
   ],
   "source": [
    "def quantile(v, p):\n",
    "    \"\"\"v의 p에 속하는 값 반환\"\"\"\n",
    "    p_index = int(p * len(v))\n",
    "    return sorted(v)[p_index]\n",
    "\n",
    "quantile(num_friend, 0.01)"
   ]
  },
  {
   "cell_type": "code",
   "execution_count": 72,
   "metadata": {
    "collapsed": true
   },
   "outputs": [],
   "source": [
    "# 또 최빈값(Mode, most frequent value)을 살펴볼 수도 있다.\n",
    "def mode(v):\n",
    "    counts = Counter(v)\n",
    "    max_count = max(counts.values())\n",
    "    return [v_i for v_i, count in counts.items()\n",
    "            if count == max_count ]"
   ]
  },
  {
   "cell_type": "code",
   "execution_count": 75,
   "metadata": {
    "collapsed": false
   },
   "outputs": [
    {
     "data": {
      "text/plain": [
       "[26, 31, 46]"
      ]
     },
     "execution_count": 75,
     "metadata": {},
     "output_type": "execute_result"
    }
   ],
   "source": [
    "mode(num_friend)\n",
    "\n",
    "# 하지만 평균이 매우 자주 사용된다."
   ]
  },
  {
   "cell_type": "markdown",
   "metadata": {},
   "source": [
    "### 산포도(mountain berry? 맛있겠다!)\n",
    "\n",
    "산포도(dispersion)은 데이터가 얼마나 퍼져 있는지를 나타낸다. 0과 근접한 값일 수록 데이터는 퍼져 있지 않다는 의미이며 큰 값이면 매우 퍼져 있다고 해석할 수 있는 통계치이다.  \n",
    "가장 큰 값과 가장 작은 값의 차이를 나타내는 범위는 산포도를 나타내는 가장 간단한 통계치이다."
   ]
  },
  {
   "cell_type": "code",
   "execution_count": 79,
   "metadata": {
    "collapsed": false
   },
   "outputs": [
    {
     "data": {
      "text/plain": [
       "48"
      ]
     },
     "execution_count": 79,
     "metadata": {},
     "output_type": "execute_result"
    }
   ],
   "source": [
    "def data_range(v):\n",
    "    return max(v) - min(v)\n",
    "\n",
    "data_range(num_friend)"
   ]
  },
  {
   "cell_type": "markdown",
   "metadata": {},
   "source": [
    "max is min일 경우 범위 값은 0이 되며 데이터의 값이 모두 동일하며 데이터는 퍼져 있지 않음을 의미한다.\n",
    "범위의 값이 크다면 max가 min에 비해 훨씬 크며 데이터가 퍼져 있음을 의미한다.\n",
    "범위 또한 중앙값처럼 데이터 전체에 의존하지 않는다. 모두 0과 100으로 이루어진 데이터와 0, 100 그리고 수 많은 50으로 이루어진 데이터나 동일한 범위를 갖게 된다. 하지만 첫 번째 데이터가 분명 더 퍼져 있다.\n",
    "분산(variance)은 산포도를 측정하는 약간 더 복잡한 개념으로 다음과 같이 계산된다.\n",
    "\n",
    "$$\\mu =\\operatorname {E} (X)$$ 가 확률변수 X의 기댓값(혹은 평균)일 때, 분산 $$\\operatorname{var}(X)$$ 는 다음과 같이 계산한다.\n",
    "\n",
    "$$\\operatorname{var}(X) = \\operatorname{E}((X - \\mu)^2)$$"
   ]
  },
  {
   "cell_type": "code",
   "execution_count": 113,
   "metadata": {
    "collapsed": false
   },
   "outputs": [
    {
     "data": {
      "text/plain": [
       "184.75757575757572"
      ]
     },
     "execution_count": 113,
     "metadata": {},
     "output_type": "execute_result"
    }
   ],
   "source": [
    "def dot(v, w):\n",
    "    return sum(v_i * w_i for v_i, w_i in zip(v, w))\n",
    "\n",
    "def sum_of_dot(v):\n",
    "    dot(v, v)\n",
    "\n",
    "def de_mean(v):\n",
    "    \"\"\"v의 모든 데이터 값에서 평균을 뺀다.(평균을 0으로 만들기 위해)\"\"\"\n",
    "    v_bar = mean(v)\n",
    "    return [v_i - v_bar for v_i in v]\n",
    "\n",
    "def variance(v):\n",
    "    \"\"\"v는 반드시 2개 이상의 값이 있어야 한다.\"\"\"\n",
    "    n = len(v)\n",
    "    deviations = de_mean(v)\n",
    "    return sum_of_square(deviations) / (n - 1) # n으로 계산할 경우 편향 때문에 모분산에 대한\n",
    "\n",
    "variance(num_friend)"
   ]
  },
  {
   "cell_type": "code",
   "execution_count": 115,
   "metadata": {
    "collapsed": false
   },
   "outputs": [
    {
     "data": {
      "text/plain": [
       "13.592555894958672"
      ]
     },
     "execution_count": 115,
     "metadata": {},
     "output_type": "execute_result"
    }
   ],
   "source": [
    "\"\"\"\n",
    "한편 분산의 단위는 기존 단위의 제곱이므로\n",
    "분산 대신 원래 단위와 같은 단위를 가지는\n",
    "표준편차(Standard deviation)을 이용하는 경우가 많다.\n",
    "\"\"\"\n",
    "from math import sqrt\n",
    "\n",
    "def standard_deviation(v):\n",
    "    return sqrt(variance(v))\n",
    "\n",
    "standard_deviation(num_friend)"
   ]
  },
  {
   "cell_type": "markdown",
   "metadata": {},
   "source": [
    "범위나 평균과 동일하게 표준편차는 이상치에 민감하게 반응한다는 문제점이 있다.\n",
    "안정적인 방법으로 **상위 25%값과 하위 25%값의 차를 구하는 방법**이 있다."
   ]
  },
  {
   "cell_type": "code",
   "execution_count": 117,
   "metadata": {
    "collapsed": false
   },
   "outputs": [
    {
     "data": {
      "text/plain": [
       "22"
      ]
     },
     "execution_count": 117,
     "metadata": {},
     "output_type": "execute_result"
    }
   ],
   "source": [
    "def interquartile_range(v):\n",
    "    return quantile(v, 0.75) - quantile(v, 0.25)\n",
    "\n",
    "interquartile_range(num_friend)"
   ]
  },
  {
   "cell_type": "markdown",
   "metadata": {},
   "source": [
    "## 상관관계\n",
    "\n",
    "사이트 사용량 데이터를 통해 사용자가 하루에 몇 분 간 사이트를 이용했는지를 나타내는 daily_minute list를 생성했다.  \n",
    "이 list의 각 항목과 num-friend list의 각 항목은 같은 사용자를 의미한다.  \n",
    "이제 두 list의 관계를 살피자.  \n",
    "분산과 비슷한 개념인 **공분산**을 사용해보자. 공분산은 두 변수가 각각의 평균에서 얼마나 멀리 떨어져 있는지 살펴본다."
   ]
  },
  {
   "cell_type": "code",
   "execution_count": 146,
   "metadata": {
    "collapsed": true
   },
   "outputs": [],
   "source": [
    "daily_minute=[]\n",
    "for i in range(100):\n",
    "    # 사용자는 1분에서 30분정도 사이트를 이용했다.\n",
    "    daily_minute.append(random.randint(1,30))"
   ]
  },
  {
   "cell_type": "markdown",
   "metadata": {},
   "source": [
    "$$E(X)=\\mu,E(Y)=\\nu$$\n",
    "$$\\operatorname{Cov}(X, Y) = \\operatorname{E}((X - \\mu) (Y - \\nu)), \\,$$"
   ]
  },
  {
   "cell_type": "code",
   "execution_count": 147,
   "metadata": {
    "collapsed": false
   },
   "outputs": [],
   "source": [
    "def covariance(x, y):\n",
    "    n = len(x)\n",
    "    \"\"\"sum(de_mean(num_friend) * de_mean(daily_minute)) / (n - 1)\"\"\"\n",
    "    return dot(de_mean(x), de_mean(y)) / (n - 1)"
   ]
  },
  {
   "cell_type": "code",
   "execution_count": 148,
   "metadata": {
    "collapsed": false
   },
   "outputs": [
    {
     "data": {
      "text/plain": [
       "2.7373737373737392"
      ]
     },
     "execution_count": 148,
     "metadata": {},
     "output_type": "execute_result"
    }
   ],
   "source": [
    "covariance(num_friend, daily_minute)"
   ]
  },
  {
   "cell_type": "markdown",
   "metadata": {},
   "source": [
    "공분산의 값이 양수이면 x의 값과 y의 값이 비례한다는 의미이다.  \n",
    "반대로 공분산의 값이 음수이면 x의 값과 y의 값은 반비례한다는 의미이다.\n",
    "공분산이 0이면 그와 같은 관계가 존재하지 않는다는 것을 의미한다.\n",
    "\n",
    "공분산의 단위는 입력 변수의 단위들을 곱해서 계산되기 때문에 이해하기 쉽지 않다. (예를 들어 친구 수X사용량에 무슨 의미가 있을까?)  \n",
    "만약 모든 사용자의 친구 수가 2배가 된다면 공분산의 값도 2배가 될 것이다. 하지만 두 변수의 상관관계는 변하지 않는다.(비례) 그래서 값이 얼마나 커야 공분산이 크다고 판단하는 것이 어렵다.  \n",
    "이러한 이유로 공분산에서 각각의 표준편차를 나눠 준 상관관계를 더 자주 살펴본다."
   ]
  },
  {
   "cell_type": "code",
   "execution_count": 149,
   "metadata": {
    "collapsed": false
   },
   "outputs": [
    {
     "data": {
      "text/plain": [
       "0.022435242595237437"
      ]
     },
     "execution_count": 149,
     "metadata": {},
     "output_type": "execute_result"
    }
   ],
   "source": [
    "def correlation(x, y):\n",
    "    stdev_x = standard_deviation(x)\n",
    "    stdev_y = standard_deviation(y)\n",
    "    if stdev_x > 0 and stdev_y > 0:\n",
    "        return covariance(x, y) / stdev_x / stdev_y\n",
    "    else:\n",
    "        return 0\n",
    "\n",
    "correlation(num_friend, daily_minute)"
   ]
  },
  {
   "cell_type": "markdown",
   "metadata": {},
   "source": [
    "상관관계는 단위가 없으며 항상 -1에서 1사이의 값을 지닌다. -1은 완벽한 음의 상관관계, 1은 완벽한 양의 상관관계를 의미한다."
   ]
  },
  {
   "cell_type": "code",
   "execution_count": 151,
   "metadata": {
    "collapsed": false
   },
   "outputs": [
    {
     "data": {
      "image/png": "[encoded data removed]",
      "text/plain": [
       "<matplotlib.figure.Figure at 0x2b6b2cc5dd8>"
      ]
     },
     "metadata": {},
     "output_type": "display_data"
    }
   ],
   "source": [
    "plt.scatter(num_friend, daily_minute)\n",
    "plt.title(\"Correlation of daily minutes number of friends\")\n",
    "plt.xlabel(\"# of friends\")\n",
    "plt.ylabel(\"minutes per day\")\n",
    "plt.axis([0,55,0,35])\n",
    "plt.show()"
   ]
  },
  {
   "cell_type": "markdown",
   "metadata": {},
   "source": [
    "(하지만 이 경우 각 축의 값들이 무작위 정수이기 때문에 유효한 상관관계를 찾기는 힘들다. 따라서 데이터는 수집단계에서 유효한 데이터를 준비해야 한다.)  \n",
    "만약 상관관계가 양수이기 때문에 두 척도가 비례한다는 시각에서 그래프를 바라봤을 때, 100명의 친구가 있음에도 사이트 이용시간이 매우 낮은(ex:1분) 사용자가 있다면 이는 이상치이며 상관관계에 영향을 줄 것이다.  \n",
    "무작위 정수가 아닌 유효한 데이터를 사용해보고 이상치를 제거해보자."
   ]
  },
  {
   "cell_type": "code",
   "execution_count": 179,
   "metadata": {
    "collapsed": false
   },
   "outputs": [
    {
     "name": "stdout",
     "output_type": "stream",
     "text": [
      "0.24736957366478218\n"
     ]
    },
    {
     "data": {
      "image/png": "[encoded data removed]",
      "text/plain": [
       "<matplotlib.figure.Figure at 0x2b6b169c630>"
      ]
     },
     "metadata": {},
     "output_type": "display_data"
    }
   ],
   "source": [
    "num_friends = [49,41,40,25,21,21,19,19,18,18,16,15,15,15,15,14,14,13,13,13,13,12,12,11,10,10,10,10,10,10,10,10,10,10,10,10,10,10,10,9,9,9,9,9,9,9,9,9,9,9,9,9,9,9,9,9,9,8,8,8,8,8,8,8,8,8,8,8,8,8,7,7,7,7,7,7,7,7,7,7,7,7,7,7,7,6,6,6,6,6,6,6,6,6,6,6,6,6,6,6,6,6,6,6,6,6,6,5,5,5,5,5,5,5,5,5,5,5,5,5,5,5,5,5,4,4,4,4,4,4,4,4,4,4,4,4,4,4,4,4,4,4,4,4,3,3,3,3,3,3,3,3,3,3,3,3,3,3,3,3,3,3,3,3,2,2,2,2,2,2,2,2,2,2,2,2,2,2,2,2,2,1,1,1,1,1,1,1,1,1,1,1,1,1,1,1,1,1,1,1,1,1,1]\n",
    "daily_minutes = [68.77,51.25,52.08,38.36,44.54,57.13,51.4,41.42,31.22,34.76,54.01,38.79,47.59,49.1,27.66,41.03,36.73,48.65,28.12,46.62,35.57,32.98,35,26.07,23.77,39.73,40.57,31.65,31.21,36.32,20.45,21.93,26.02,27.34,23.49,46.94,30.5,33.8,24.23,21.4,27.94,32.24,40.57,25.07,19.42,22.39,18.42,46.96,23.72,26.41,26.97,36.76,40.32,35.02,29.47,30.2,31,38.11,38.18,36.31,21.03,30.86,36.07,28.66,29.08,37.28,15.28,24.17,22.31,30.17,25.53,19.85,35.37,44.6,17.23,13.47,26.33,35.02,32.09,24.81,19.33,28.77,24.26,31.98,25.73,24.86,16.28,34.51,15.23,39.72,40.8,26.06,35.76,34.76,16.13,44.04,18.03,19.65,32.62,35.59,39.43,14.18,35.24,40.13,41.82,35.45,36.07,43.67,24.61,20.9,21.9,18.79,27.61,27.21,26.61,29.77,20.59,27.53,13.82,33.2,25,33.1,36.65,18.63,14.87,22.2,36.81,25.53,24.62,26.25,18.21,28.08,19.42,29.79,32.8,35.99,28.32,27.79,35.88,29.06,36.28,14.1,36.63,37.49,26.9,18.58,38.48,24.48,18.95,33.55,14.24,29.04,32.51,25.63,22.22,19,32.73,15.16,13.9,27.2,32.01,29.27,33,13.74,20.42,27.32,18.23,35.35,28.48,9.08,24.62,20.12,35.26,19.92,31.02,16.49,12.16,30.7,31.22,34.65,13.13,27.51,33.2,31.57,14.1,33.42,17.44,10.12,24.42,9.82,23.39,30.93,15.03,21.67,31.09,33.29,22.61,26.89,23.48,8.38,27.81,32.35,23.84]\n",
    "plt.scatter(num_friends, daily_minutes)\n",
    "plt.title(\"Correlation of daily minutes number of friends\")\n",
    "plt.xlabel(\"# of friends\")\n",
    "plt.ylabel(\"minutes per day\")\n",
    "plt.axis([0,105,0,105])\n",
    "print(correlation(num_friends,daily_minutes))\n",
    "plt.show()"
   ]
  },
  {
   "cell_type": "code",
   "execution_count": 176,
   "metadata": {
    "collapsed": false
   },
   "outputs": [
    {
     "data": {
      "text/plain": [
       "0.5736792115665573"
      ]
     },
     "execution_count": 176,
     "metadata": {},
     "output_type": "execute_result"
    }
   ],
   "source": [
    "outliner = num_friends.index(100)\n",
    "num_friends_good = [x for i, x in enumerate(num_friends) if i is not outliner]\n",
    "daily_minutes_good = [x for i, x in enumerate(daily_minutes) if i is not outliner]\n",
    "correlation(num_friends_good, daily_minutes_good)"
   ]
  },
  {
   "cell_type": "code",
   "execution_count": 180,
   "metadata": {
    "collapsed": false
   },
   "outputs": [
    {
     "data": {
      "image/png": "[encoded data removed]",
      "text/plain": [
       "<matplotlib.figure.Figure at 0x2b6b160ff60>"
      ]
     },
     "metadata": {},
     "output_type": "display_data"
    }
   ],
   "source": [
    "plt.scatter(num_friends_good, daily_minutes_good)\n",
    "plt.title(\"Correlation of daily minutes number of friends\")\n",
    "plt.xlabel(\"# of friends\")\n",
    "plt.ylabel(\"minutes per day\")\n",
    "plt.axis([0,50,0,105])\n",
    "plt.show()\n",
    "\n",
    "# 훨씬 더 강력한 상관관계를 확인할 수 있다."
   ]
  },
  {
   "cell_type": "markdown",
   "metadata": {},
   "source": [
    "### 심슨의 역설\n",
    "각 부분에 대한 평균이 크다고 해서 전체에 대한 평균이 클 필요는 없다.  \n",
    "각각의 변수(Confounding variables, 혼재 변수)에 신경을 쓰지 않으면 올바른 전체의 통계 결과를 유도할 수 없다.  \n",
    "*(잘생긴 이목구비를 한 데 모아도 잘생긴 얼굴이 안 나올 수도 있다??)*\n",
    "\n",
    "Datascience from scratch 68p에 적절한 예시가 나와 있다.\n",
    "\n",
    "역전의 역설이라고도 부른다.\n",
    "\n",
    "### 상관관계에 대한 경고\n",
    "```\n",
    "x = [-2, -1, 0, 1, 2]\n",
    "y = [2, 1, 0, 1, 2]\n",
    "```\n",
    "\n",
    "둘의 상관관계는 0으로 계산되지만, 분명 y는 x의 절댓값이라는 관계가 성립한다.  \n",
    "이런 관계는 상관관계(Correlation) 만으로는 설명할 수 없다.  \n",
    "\n",
    "또 상관관계는 연관성이 얼마나 크고 작은지 설명해주지 않는다.\n",
    "\n",
    "```\n",
    "x = [-2, -1, 0, 1, 2]\n",
    "y = [99.98, 99.99, 100, 100.01, 100.02]\n",
    "```\n",
    "\n",
    "### 인과관계 x 상관관계\n",
    "\n",
    "상관관계가 반드시 인과관계로 연결되는 것은 아니다.  \n",
    "사이트에 머문 시간과 친구의 수라는 두 척도가 비례관계에 있으나, 사용자는 사이트에 머문 시간이 많기 때문에 자연히 친구의 수가 늘어났을 수도 있고, 소통할 친구의 수가 많기 때문에 사이트에 오래 머무르는 것일 수도 있다.  \n",
    "혹은 둘 다 아닐 가능성도 있다!  \n",
    "\n",
    "인과관계를 확인해 보기 위해서는 데이터 값을 무작위로 선택해 확인해 보는 방법이 있다.  \n",
    "성질과 환경이 비슷한 두 그룹으로 사용자를 나누고 한 그룹에만 다른 요인을 적용시켜 인과관계를 확인할 수 있다.  \n",
    "\n",
    "예를 들어 '무작위로 일부 사용자를 선별, 각 사용자에게 일부 친구들의 글만 보여준다.' 라는 요인이 사용자가 더 적은 시간을 보낸다는 결과를 낳는다면 친구 수의 증가에 따라 사이트 체류 시간이 증가한다는 가설이 어느 정도 맞다고 할 수 있다."
   ]
  }
 ],
 "metadata": {
  "anaconda-cloud": {},
  "kernelspec": {
   "display_name": "Python [default]",
   "language": "python",
   "name": "python3"
  },
  "language_info": {
   "codemirror_mode": {
    "name": "ipython",
    "version": 3
   },
   "file_extension": ".py",
   "mimetype": "text/x-python",
   "name": "python",
   "nbconvert_exporter": "python",
   "pygments_lexer": "ipython3",
   "version": "3.5.2"
  }
 },
 "nbformat": 4,
 "nbformat_minor": 1
}
