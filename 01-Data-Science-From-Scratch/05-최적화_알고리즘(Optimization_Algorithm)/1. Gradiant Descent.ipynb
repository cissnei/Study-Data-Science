{
 "cells": [
  {
   "cell_type": "markdown",
   "metadata": {},
   "source": [
    "## 경사하강법(gradient descent)\n",
    "\n",
    "Machine Learning, 데이터 분석에는 특정 상황에 가장 적합한 모델을 찾아야 할 때가 많다.\n",
    "가장 적합한(best)이라는 건 모델의 오류를 최소화하는, likelihood(우도, 공산 - probability와는 다르다)를 최대화(이를 측정한 최대 가능도 추정량은 Maximum likelihood estimator라고 한다.)하는 것을 의미한다. \n",
    "실수 벡터를 입력하면 실수 하나를 출력해 주는 함수 f가 있다고 하자."
   ]
  },
  {
   "cell_type": "code",
   "execution_count": 15,
   "metadata": {
    "collapsed": true
   },
   "outputs": [],
   "source": [
    "import random, math\n",
    "\n",
    "def vector_add(v, w):\n",
    "    \"\"\"adds two vectors componentwise\"\"\"\n",
    "    return [v_i + w_i for v_i, w_i in zip(v,w)]\n",
    "\n",
    "def vector_subtract(v, w):\n",
    "    \"\"\"subtracts two vectors componentwise\"\"\"\n",
    "    return [v_i - w_i for v_i, w_i in zip(v,w)]\n",
    "\n",
    "def vector_sum(vectors):\n",
    "    return reduce(vector_add, vectors)\n",
    "\n",
    "def scalar_multiply(c, v):\n",
    "    return [c * v_i for v_i in v]\n",
    "\n",
    "def vector_mean(vectors):\n",
    "    \"\"\"compute the vector whose i-th element is the mean of the\n",
    "    i-th elements of the input vectors\"\"\"\n",
    "    n = len(vectors)\n",
    "    return scalar_multiply(1/n, vector_sum(vectors))\n",
    "\n",
    "def dot(v, w):\n",
    "    \"\"\"v_1 * w_1 + ... + v_n * w_n\"\"\"\n",
    "    return sum(v_i * w_i for v_i, w_i in zip(v, w))\n",
    "\n",
    "def sum_of_squares(v):\n",
    "    \"\"\"v_1 * v_1 + ... + v_n * v_n\"\"\"\n",
    "    return dot(v, v)\n",
    "\n",
    "def magnitude(v):\n",
    "    return math.sqrt(sum_of_squares(v))\n",
    "\n",
    "def squared_distance(v, w):\n",
    "    return sum_of_squares(vector_subtract(v, w))\n",
    "\n",
    "def distance(v, w):\n",
    "   return math.sqrt(squared_distance(v, w))\n",
    "\n",
    "def sum_of_squares(v):\n",
    "    return sum(v_i ** 2 for v_i in v)"
   ]
  },
  {
   "cell_type": "markdown",
   "metadata": {
    "collapsed": true
   },
   "source": [
    "이런 함수를 최대화(최소화)할 수 있어야 한다. 즉, f를 최대화하는 v를 찾아야 한다.  \n",
    "경사(gradient)는 함수가 가장 빠르게 증가할 수 있는 방향을 나타낸다.  \n",
    "함수의 최댓값을 구하는 방법 중 하나는 임의의 시작점을 잡은 후 gradient를 계산하고 gradient의 방향으로 조금씩 이동하는 과정을 여러 번 반복하는 것이다. 마찬가지로 함수의 최솟값은 반대 방향으로 이동해 구할 수 있다."
   ]
  },
  {
   "cell_type": "code",
   "execution_count": 16,
   "metadata": {
    "collapsed": true
   },
   "outputs": [],
   "source": [
    "def difference_quotient(f,x,h):\n",
    "    return (f(x+h) - f(x)) / h"
   ]
  },
  {
   "cell_type": "code",
   "execution_count": 17,
   "metadata": {
    "collapsed": false
   },
   "outputs": [
    {
     "data": {
      "text/plain": [
       "10.000009999444615"
      ]
     },
     "execution_count": 17,
     "metadata": {},
     "output_type": "execute_result"
    }
   ],
   "source": [
    "# 도함수를 구해보자\n",
    "def square(x):\n",
    "    return x * x\n",
    "\n",
    "def derivative(x) :\n",
    "    return 2 * x\n",
    "\n",
    "derivative_estimate = lambda x: difference_quotient(square, x, h=0.00001)\n",
    "derivative_estimate(5)"
   ]
  },
  {
   "cell_type": "code",
   "execution_count": 4,
   "metadata": {
    "collapsed": false
   },
   "outputs": [
    {
     "data": {
      "image/png": "[encoded data removed]",
      "text/plain": [
       "<matplotlib.figure.Figure at 0x254fd119a20>"
      ]
     },
     "metadata": {},
     "output_type": "display_data"
    }
   ],
   "source": [
    "import matplotlib.pyplot as plt\n",
    "x = range(-10, 10)\n",
    "\n",
    "plt.title(\"Actual derivative vs Estimates\")\n",
    "plt.plot(x, [derivative(x_i) for x_i in x], 'rx', label='Actual')  # red x\n",
    "plt.plot(x, [derivative_estimate(x_i) for x_i in x], 'b+', label='Estimated')  # blue +\n",
    "plt.legend(loc=9)\n",
    "plt.show()"
   ]
  },
  {
   "cell_type": "markdown",
   "metadata": {
    "collapsed": true
   },
   "source": [
    "f가 다변수를 갖는 함수일 때 여러 개의 변수 중 하나에 작은 변화가 있을 때 f(x)의 변화량을 알려주는 편도함수도 여러 개 존재한다.\n",
    "i번째 편도함수는 i번 변수를 제외한 모든 변수를 고정시켜 계산할 수 있다."
   ]
  },
  {
   "cell_type": "code",
   "execution_count": 5,
   "metadata": {
    "collapsed": true
   },
   "outputs": [],
   "source": [
    "def partial_difference_quotient(f, v, i, h):\n",
    "\n",
    "    # add h to just the i-th element of v\n",
    "    w = [v_j + (h if j == i else 0)\n",
    "         for j, v_j in enumerate(v)]\n",
    "\n",
    "    return (f(w) - f(v)) / h\n",
    "\n",
    "def estimate_gradient(f, v, h=0.00001):\n",
    "    return [partial_difference_quotient(f, v, i, h)\n",
    "            for i, _ in enumerate(v)]"
   ]
  },
  {
   "cell_type": "markdown",
   "metadata": {
    "collapsed": true
   },
   "source": [
    "## Gradient 적용하기\n",
    "\n",
    "sum_of_square의 최솟값을 경사 하강법을 이용해서 구해보자. 임의의 시작점을 두고 gradient가 아주 작아질 때까지 경사의 반대 방향으로 조금씩 이동하면 된다."
   ]
  },
  {
   "cell_type": "code",
   "execution_count": 82,
   "metadata": {
    "collapsed": false
   },
   "outputs": [],
   "source": [
    "def step(v, direction, step_size):\n",
    "    return [v_i + step_size * direction_i\n",
    "            for v_i, direction_i in zip(v,direction)]\n",
    "\n",
    "def sum_of_squares_gradient(v):\n",
    "    return [2 * v_i for v_i in v]\n",
    "\n",
    "#임의의 시작점과 허용치\n",
    "v = [random.randint(-10, 10) for i in range(3)]\n",
    "tolerance = 0.0001\n",
    "\n",
    "\n",
    "while True:\n",
    "    gradient = sum_of_squares_gradient(v) # sum_of_squares의 도함수는 2배수이므로.\n",
    "    next_v = step(v, gradient, -0.01) #v만큼 \n",
    "    if distance(next_v, v) < tolerance: #vector substract의 표준편차로 distance를 잰다.\n",
    "        break\n",
    "    v = next_v"
   ]
  },
  {
   "cell_type": "markdown",
   "metadata": {},
   "source": [
    "경사를 따라 이동한다는 논리는 명백하지만 이동 거리(step size)즉 얼마나 이동해야 하는가를 정하기는 쉽지 않다. 실제 이동 거리를 정하는 것은 과학보단 기술(art)에 가깝다. 일반적인 옵션은 다음과 같다.\n",
    "\n",
    "- 이동 거리 고정\n",
    "- 시간에 따라 이동 거리를 줄여감\n",
    "- 이동할 때마다 목적 함수를 최소화하는 이동 거리로 설정\n",
    "\n",
    "세 번째는 계산 비용이 굉장히 크다. 몇몇 정해진 거리를 시도해보고 그 중 적절한 값을 고르는 방법이 있다."
   ]
  },
  {
   "cell_type": "code",
   "execution_count": 14,
   "metadata": {
    "collapsed": false
   },
   "outputs": [],
   "source": [
    "step_sizes = [100,10,1,0.1,0.01,0.001,0.0001,0.0001]\n",
    "def safe(f):\n",
    "    \"\"\"f와 똑같은 함수를 반환하지만 f에 오류가 발생하면 무한대를 반환환다.\"\"\"\n",
    "    def safe_f(*args, **kwargs):\n",
    "        try:\n",
    "            return f(*args, **kwargs)\n",
    "        except:\n",
    "            return float('inf')\n",
    "    return safe_f"
   ]
  },
  {
   "cell_type": "markdown",
   "metadata": {
    "collapsed": false
   },
   "source": [
    "대부분의 경우 최소화하려는 함수(target_fn)와 그에 대한 경사함수(gradient_fn)가 존재한다.\n",
    "target_fn이 특정 모델의 파라미터에 대한 오류값 함수라면, 경사 하강법을 이용해 오류값을 최소화하는 파라미터를 찾을 수 있다.\n",
    "파라미터의 시작점 theta_0을 구했다고 쳤을 때, 경사 하강법을 다음과 같이 구현할 수 있다."
   ]
  },
  {
   "cell_type": "code",
   "execution_count": 21,
   "metadata": {
    "collapsed": false
   },
   "outputs": [],
   "source": [
    "def minimize_batch(target_fn, gradient_fn, theta_0, tolerance=0.000001):\n",
    "    \"\"\"목적 함수를 최소화하는 theta를 경사 하강법을 통해 찾아준다.\"\"\"\n",
    "    step_sizes = [100,10,1,0.1,0.01,0.001,0.0001,0.00001]\n",
    "    \n",
    "    # Initialize\n",
    "    theta = theta_0              # theta를 시작점으로\n",
    "    target_fn = safe(target_fn)  # 대상 함수 검사\n",
    "    value = target_fn(theta)     # 최소화 하려는 값\n",
    "    \n",
    "    while True:\n",
    "        gradient = gradient_fn(theta)\n",
    "        next_thetas = [step(theta, gradient, -step_size)\n",
    "                       for step_size in step_sizes]\n",
    "        \n",
    "        #함수를 최소화하는 theta 선택\n",
    "        next_theta = min(next_thetas, key=target_fn)\n",
    "        next_value = target_fn(next_theta)\n",
    "        \n",
    "        #tolerance에 수렴하면 멈춤.\n",
    "        if abs(value - next_value) < tolerance:\n",
    "            return theta\n",
    "        else:\n",
    "            theta, value = next_theta, next_value"
   ]
  },
  {
   "cell_type": "markdown",
   "metadata": {
    "collapsed": true
   },
   "source": [
    "위의 경사 하강법은 반복문을 돌 때마다 데이터셋 전체를 살펴본다. - target_fn이 데이터셋 전체에 대한 에러를 반환한다. - 반대로 한 번에 하나의 데이터 값을 보는 방법을 시도해보자.  \n",
    "함수를 최대화해야 할 경우 target_fn의 음수값을 최소화하면 된다."
   ]
  },
  {
   "cell_type": "code",
   "execution_count": 23,
   "metadata": {
    "collapsed": false
   },
   "outputs": [],
   "source": [
    "def negate(f):\n",
    "    \"\"\"x 입력 시 -f(x)반환\"\"\"\n",
    "    return lambda *args, **kwargs: -f(*args, **kwargs)\n",
    "\n",
    "def negate_all(f):\n",
    "    \"\"\"f가 여러 수를 반환할 때 모든 숫자를 음수로\"\"\"\n",
    "    return lambda *args, **kwargs: [-y for y in f(*args, **kwargs)]\n",
    "\n",
    "def maximize_batch(target_fn, gradient_fn, theta_0, tolerance=0.000001):\n",
    "    return minimize_batch(negate(target_fn),\n",
    "                          negate_all(gradient_fn),\n",
    "                          theta_0,\n",
    "                          tolerance)\n",
    "                          "
   ]
  },
  {
   "cell_type": "markdown",
   "metadata": {},
   "source": [
    "### Stochastic Gradient Descent (SGD)\n",
    "\n",
    "모델의 오류를 최소화하기 위해 경사 하강법을 자주 이용하게 되는데, minimize_batch를 이용할 경우 데이터 셋 전체를 돌며 gradient값을 계산해야 하므로 비용이 많이 든다.  \n",
    "그런데 대부분의 오류 함수들에게는 더할 수 있는(additive)특성이 있기 때문에, 데이터 전체에 대한 오류값은 각각의 데이터 포인트의 오류값의 합과 같다. 이 때 하나의 반복문에서 데이터 포인트 하나에 대한 gradient를 계산하는 SGD를 사용할 수 있다."
   ]
  },
  {
   "cell_type": "code",
   "execution_count": 1,
   "metadata": {
    "collapsed": true
   },
   "outputs": [],
   "source": [
    "# 한 번 반복문을 돌 때마다 무작위 데이터 포인트를 사용한다.\n",
    "# stochastic - 추계학적인 확률적인\n",
    "\n",
    "def in_random_order(data):\n",
    "    indexes = [i for i, _ in enumerate(data)]\n",
    "    random.shuffle(indexes)\n",
    "    for i in indexes:\n",
    "        yield data[i]\n",
    "\n",
    "def minimize_stochastic(target_fn, gradient_fn, x, y, theta_0, alpha_0=0.01):\n",
    "    data = zip(x, y)\n",
    "    theta = theta_0                              # 시작점\n",
    "    alpha = alpha_0                              # step_size, 기본 이동 거리\n",
    "    min_theta, min_value = None, float(\"inf\")    # 시작 시 최솟값\n",
    "    iterations_with_no_improvement = 0\n",
    "    \n",
    "    while iterations_with_no_improvement > 100:\n",
    "        value = sum(target_fn(x_i, y_i, theta)for x_i, y_i in data)\n",
    "        \n",
    "        if value < min_value:\n",
    "            # 새로운 최솟값을 찾았다면 이 값을 저장하고 기본 이동 거리로 다시 돌아감\n",
    "            min_theta, min_value = theta, value\n",
    "            iterations_with_no_improvements = 0 \n",
    "            alpha = alpha_0\n",
    "        else:\n",
    "            # 최솟값이 줄어들지 않으면 이동 거리 축소\n",
    "            iterations_with_no_improvement += 1\n",
    "            alpha *= 0.9\n",
    "        for x_i, y_i in in_random_order(data):\n",
    "            gradient_i = gradient_fn(x_i, y_i, theta)\n",
    "            theta = vector_substract(theta, scalar_multiply(alpha, gradient_i))\n",
    "            \n",
    "    return min_theta\n",
    "\n",
    "# maximize_stochastic\n",
    "\n",
    "def maximize_stochastic(target_fn, gradient_fn, x, y, theta_0, alpha_0=0.01):\n",
    "    return minimize_stochastic(negate(target_fn),\n",
    "                               negate_all(gradient_fn),\n",
    "                               x, y, theta_0, alpha_0)"
   ]
  },
  {
   "cell_type": "markdown",
   "metadata": {},
   "source": [
    "$$f(\\alpha, \\beta |x_i,y_i,\\sigma)= \\frac{1}{sqrt{2 \\pi \\sigma} exp(-(y_i-\\alpha - )) $$"
   ]
  },
  {
   "cell_type": "markdown",
   "metadata": {},
   "source": [
    "$$f(\\alpha, \\beta |x_i,y_i,\\sigma)= \\frac{1}{\\sqrt{2\\pi} \\sigma} exp(-(y_i-\\alpha - \\beta x_i)^2/2\\sigma^2)$$"
   ]
  },
  {
   "cell_type": "code",
   "execution_count": null,
   "metadata": {
    "collapsed": true
   },
   "outputs": [],
   "source": []
  }
 ],
 "metadata": {
  "anaconda-cloud": {},
  "kernelspec": {
   "display_name": "Python [default]",
   "language": "python",
   "name": "python3"
  },
  "language_info": {
   "codemirror_mode": {
    "name": "ipython",
    "version": 3
   },
   "file_extension": ".py",
   "mimetype": "text/x-python",
   "name": "python",
   "nbconvert_exporter": "python",
   "pygments_lexer": "ipython3",
   "version": "3.5.2"
  }
 },
 "nbformat": 4,
 "nbformat_minor": 1
}
