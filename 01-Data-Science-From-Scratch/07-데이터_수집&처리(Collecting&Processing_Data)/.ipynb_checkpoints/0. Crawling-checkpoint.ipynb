{
 "cells": [
  {
   "cell_type": "code",
   "execution_count": 1,
   "metadata": {
    "collapsed": false
   },
   "outputs": [],
   "source": [
    "from bs4 import BeautifulSoup as bs\n",
    "import html5lib\n",
    "import requests\n",
    "\n",
    "html = requests.get(\"http://nyanye.com\").text\n",
    "soup = bs(html, 'html5lib')"
   ]
  },
  {
   "cell_type": "code",
   "execution_count": 2,
   "metadata": {
    "collapsed": false
   },
   "outputs": [
    {
     "name": "stdout",
     "output_type": "stream",
     "text": [
      "면접관 : 환영합니다. 커피나 필요한 것 있으신가요? 좀 쉬고 싶으세요?\n"
     ]
    },
    {
     "data": {
      "text/plain": [
       "4"
      ]
     },
     "execution_count": 2,
     "metadata": {},
     "output_type": "execute_result"
    }
   ],
   "source": [
    "postTitle = soup.findAll('h3', class_=\"post-title\")\n",
    "postTitle = soup.findAll('p', class_=\"post-summary\")\n",
    "postSummary = soup.findAll('p', class_=\"post-summary\")[2].getText()\n",
    "print(postSummary.strip())\n",
    "len(postTitle)"
   ]
  },
  {
   "cell_type": "code",
   "execution_count": 5,
   "metadata": {
    "collapsed": false
   },
   "outputs": [],
   "source": [
    "def collectPost():\n",
    "    postTitles = soup.findAll('h3',  class_=\"post-title\")\n",
    "    postSummaries = soup.findAll('p', class_=\"post-sumamry\")\n",
    "    for i in range(len(postTitles)):\n",
    "        postTitle = soup.findAll('h3', class_=\"post-title\")[i].getText()\n",
    "        postSummary = soup.findAll('p', class_=\"post-summary\")[i].getText()\n",
    "        with open(\"blogdata.txt\",'a') as f:\n",
    "            f.write(postTitle.strip())\n",
    "            f.write('\\n')\n",
    "            f.write(postSummary.strip())\n",
    "            f.write('\\n')\n",
    "            \n",
    "collectPost()"
   ]
  }
 ],
 "metadata": {
  "anaconda-cloud": {},
  "kernelspec": {
   "display_name": "Python [default]",
   "language": "python",
   "name": "python3"
  },
  "language_info": {
   "codemirror_mode": {
    "name": "ipython",
    "version": 3
   },
   "file_extension": ".py",
   "mimetype": "text/x-python",
   "name": "python",
   "nbconvert_exporter": "python",
   "pygments_lexer": "ipython3",
   "version": "3.5.2"
  }
 },
 "nbformat": 4,
 "nbformat_minor": 1
}
