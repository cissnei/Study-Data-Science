{
 "cells": [
  {
   "cell_type": "code",
   "execution_count": 60,
   "metadata": {
    "collapsed": false
   },
   "outputs": [],
   "source": [
    "import sys\n",
    "import re\n",
    "from collections import Counter \n",
    "\n",
    "# 간단한 열기 쓰기 더하기\n",
    "bible = 'bible.txt'\n",
    "read = open(bible,'r')\n",
    "#write = open('new-file.txt','w')\n",
    "append = open('new-file.txt','a')\n",
    "write.close()"
   ]
  },
  {
   "cell_type": "code",
   "execution_count": 20,
   "metadata": {
    "collapsed": false
   },
   "outputs": [],
   "source": [
    "with open(bible, 'r') as f:\n",
    "   data = (f)\n",
    "   d=list(data)\n",
    "#process(d)"
   ]
  },
  {
   "cell_type": "code",
   "execution_count": 53,
   "metadata": {
    "collapsed": false
   },
   "outputs": [],
   "source": [
    "starts_with_space = 0\n",
    "with open(bible, 'r') as f:\n",
    "    for line in f:\n",
    "        if re.match(\"^ \",line):\n",
    "            starts_with_space += 1"
   ]
  },
  {
   "cell_type": "code",
   "execution_count": 68,
   "metadata": {
    "collapsed": false
   },
   "outputs": [],
   "source": [
    "def getDomain(emailAddress):\n",
    "    \"\"\"'@' 기준으로 주소를 자르고 마지막 부분을 변환\"\"\"\n",
    "    return emailAddress.lower().split('@')[-1]\n",
    "\n",
    "with open('emails.txt','r') as f:\n",
    "    domainCounts = Counter(getDomain(line.strip())\n",
    "                           for line in f\n",
    "                           if \"@\" in line)"
   ]
  },
  {
   "cell_type": "code",
   "execution_count": 75,
   "metadata": {
    "collapsed": false
   },
   "outputs": [
    {
     "data": {
      "text/plain": [
       "['gmail.com',\n",
       " 'ru.ac.za',\n",
       " 'dut.ac.za',\n",
       " 'ukzn.ac.za',\n",
       " 'wits.ac.za',\n",
       " 'unizulu.ac.za',\n",
       " 'aims.ac.za',\n",
       " 'campus.ru.ac.za',\n",
       " 'uclouvain.be',\n",
       " 'uct.ac.za',\n",
       " 'sun.ac.za',\n",
       " 'icra.it',\n",
       " 'yahoo.com',\n",
       " 'myuct.ac.za',\n",
       " 'icranet.org',\n",
       " 'ieec.uab.es',\n",
       " 'fis.ucm.es',\n",
       " 'ehu.es',\n",
       " 'aip.de',\n",
       " 'yahoo.co.uk',\n",
       " 'uofk.edu',\n",
       " 'kasi.re.kr',\n",
       " 'uj.ac.za',\n",
       " 'iburst.co.za',\n",
       " 'stu.ukzn.ac.za']"
      ]
     },
     "execution_count": 75,
     "metadata": {},
     "output_type": "execute_result"
    }
   ],
   "source": [
    "# 등장하는 도메인을 오름차순 정렬\n",
    "sorted(domainCounts, key=domainCounts.get)\n",
    "\n",
    "# 등장하는 도메인을 내림차순 정렬\n",
    "sorted(domainCounts, key=domainCounts.get, reverse=True)"
   ]
  },
  {
   "cell_type": "markdown",
   "metadata": {},
   "source": [
    "### 구분자가 있는 파일(csv 등)\n",
    "\n",
    "데이터가 언제나 줄로 구분되어 있는 것은 아니다. tab으로 구분되기도 하고, 쉼표로 구분되기도 하고, 구분되어 있지 않기도 하다.\n",
    "만약 헤더가 없는 파일이라면 각 행을 list로 바꿀 수 있다."
   ]
  },
  {
   "cell_type": "code",
   "execution_count": 92,
   "metadata": {
    "collapsed": false
   },
   "outputs": [],
   "source": [
    "import csv\n",
    "with open('tab_delimited_stock_prices.txt','r') as f:\n",
    "    reader = csv.reader(f, delimiter='\\t')\n",
    "    for row in reader:\n",
    "        date = row[0]\n",
    "        symbol = row[1]\n",
    "        closing_price = float(row[2])\n",
    "        stockPrice=(date,symbol,closing_price)"
   ]
  },
  {
   "cell_type": "code",
   "execution_count": 79,
   "metadata": {
    "collapsed": false
   },
   "outputs": [
    {
     "data": {
      "text/plain": [
       "('6/19/2014', 'FB', 64.34)"
      ]
     },
     "execution_count": 79,
     "metadata": {},
     "output_type": "execute_result"
    }
   ],
   "source": [
    "stockPrice"
   ]
  },
  {
   "cell_type": "code",
   "execution_count": 90,
   "metadata": {
    "collapsed": false
   },
   "outputs": [],
   "source": [
    "# colon_delimited_file with DictReader\n",
    "with open('colon_delimited_stock_prices.txt', 'r') as f:\n",
    "    reader = csv.DictReader(f, delimiter=':')\n",
    "    for row in reader:\n",
    "        date = row[\"date\"]\n",
    "        symbol = row[\"symbol\"]\n",
    "        closing_price = float(row[\"closing_price\"])\n",
    "        stockPrice=(date,symbol,closing_price)"
   ]
  },
  {
   "cell_type": "code",
   "execution_count": 91,
   "metadata": {
    "collapsed": false
   },
   "outputs": [
    {
     "data": {
      "text/plain": [
       "('6/20/2014', 'FB', 64.5)"
      ]
     },
     "execution_count": 91,
     "metadata": {},
     "output_type": "execute_result"
    }
   ],
   "source": [
    "stockPrice"
   ]
  },
  {
   "cell_type": "code",
   "execution_count": 93,
   "metadata": {
    "collapsed": true
   },
   "outputs": [],
   "source": [
    "today_prices = {'AAPL':90.91, 'MSFT':41.68, 'FB':64.5}"
   ]
  },
  {
   "cell_type": "code",
   "execution_count": 96,
   "metadata": {
    "collapsed": true
   },
   "outputs": [],
   "source": [
    "with open('comma_delimited_stock_prices.txt','w') as f:\n",
    "    writer = csv.writer(f, delimiter=',')\n",
    "    for stock, price in today_prices.items():\n",
    "        writer.writerow([stock, price])"
   ]
  },
  {
   "cell_type": "code",
   "execution_count": null,
   "metadata": {
    "collapsed": true
   },
   "outputs": [],
   "source": []
  }
 ],
 "metadata": {
  "anaconda-cloud": {},
  "kernelspec": {
   "display_name": "Python [default]",
   "language": "python",
   "name": "python3"
  },
  "language_info": {
   "codemirror_mode": {
    "name": "ipython",
    "version": 3
   },
   "file_extension": ".py",
   "mimetype": "text/x-python",
   "name": "python",
   "nbconvert_exporter": "python",
   "pygments_lexer": "ipython3",
   "version": "3.5.2"
  }
 },
 "nbformat": 4,
 "nbformat_minor": 1
}
