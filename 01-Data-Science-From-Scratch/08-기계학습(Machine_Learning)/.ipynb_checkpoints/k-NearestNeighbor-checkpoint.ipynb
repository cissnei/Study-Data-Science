{
 "cells": [
  {
   "cell_type": "code",
   "execution_count": 93,
   "metadata": {
    "collapsed": true
   },
   "outputs": [],
   "source": [
    "from collections import Counter\n",
    "from linear_algebra import distance\n",
    "from stats import mean\n",
    "import math, random\n",
    "import matplotlib.pyplot as plt\n",
    "\n",
    "# find most frequent one >> nearest K\n",
    "def raw_majority_vote(labels):\n",
    "    votes = Counter(labels)\n",
    "    winner, _ = votes.most_common(1)[0]\n",
    "    return winner"
   ]
  },
  {
   "cell_type": "code",
   "execution_count": 16,
   "metadata": {
    "collapsed": false
   },
   "outputs": [
    {
     "data": {
      "text/plain": [
       "1"
      ]
     },
     "execution_count": 16,
     "metadata": {},
     "output_type": "execute_result"
    }
   ],
   "source": [
    "raw_majority_vote([1,1,1,1,1,2,2,2,2,2])\n",
    "# 값이 같은 항목들을 제대로 처리하지 못한다.\n",
    "# 이럴 땐 다음과 같은 선택을 할 수 있다.\n",
    "# - 여러 1등 중 임의로 하나를 정한다.\n",
    "# - 거리를 가중치로 사용해서 거리 기반 투표를 한다.\n",
    "# - 단독 1등이 생길 때까지 k를 하나씩 줄인다. >> 구현"
   ]
  },
  {
   "cell_type": "code",
   "execution_count": 31,
   "metadata": {
    "collapsed": true
   },
   "outputs": [],
   "source": [
    "def majorityVote(labels):\n",
    "    voteCounts = Counter(labels)\n",
    "    winner, winnerCount = voteCounts.most_common(1)[0]\n",
    "    num_winners = len([count for count in voteCounts.values()\n",
    "                       if count is winnerCount])\n",
    "    if num_winners is 1:\n",
    "        return winner\n",
    "    else:\n",
    "        return majorityVote(labels[:-1])"
   ]
  },
  {
   "cell_type": "code",
   "execution_count": 32,
   "metadata": {
    "collapsed": false
   },
   "outputs": [
    {
     "data": {
      "text/plain": [
       "5"
      ]
     },
     "execution_count": 32,
     "metadata": {},
     "output_type": "execute_result"
    }
   ],
   "source": [
    "majorityVote([5,5,5,5,1,1,1,1,2,2,2,2,3,3,3,3,4,4,4,4])"
   ]
  },
  {
   "cell_type": "markdown",
   "metadata": {},
   "source": [
    "## 예시 : 가장 인기 있는 프로그래밍 언어\n",
    "\n",
    "각 대도시 사람들이 선호하는 프로그래밍 언어의 데이터가 있다고 쳐보자."
   ]
  },
  {
   "cell_type": "code",
   "execution_count": 109,
   "metadata": {
    "collapsed": true
   },
   "outputs": [],
   "source": [
    "# 데이터는 [경도, 위도], 선호하는 프로그래밍 언어 꼴로 이루어져있다.\n",
    "cities = [(-86.75,33.5666666666667,'Python'),(-88.25,30.6833333333333,'Python'),(-112.016666666667,33.4333333333333,'Java'),(-110.933333333333,32.1166666666667,'Java'),(-92.2333333333333,34.7333333333333,'R'),(-121.95,37.7,'R'),(-118.15,33.8166666666667,'Python'),(-118.233333333333,34.05,'Java'),(-122.316666666667,37.8166666666667,'R'),(-117.6,34.05,'Python'),(-116.533333333333,33.8166666666667,'Python'),(-121.5,38.5166666666667,'R'),(-117.166666666667,32.7333333333333,'R'),(-122.383333333333,37.6166666666667,'R'),(-121.933333333333,37.3666666666667,'R'),(-122.016666666667,36.9833333333333,'Python'),(-104.716666666667,38.8166666666667,'Python'),(-104.866666666667,39.75,'Python'),(-72.65,41.7333333333333,'R'),(-75.6,39.6666666666667,'Python'),(-77.0333333333333,38.85,'Python'),(-80.2666666666667,25.8,'Java'),(-81.3833333333333,28.55,'Java'),(-82.5333333333333,27.9666666666667,'Java'),(-84.4333333333333,33.65,'Python'),(-116.216666666667,43.5666666666667,'Python'),(-87.75,41.7833333333333,'Java'),(-86.2833333333333,39.7333333333333,'Java'),(-93.65,41.5333333333333,'Java'),(-97.4166666666667,37.65,'Java'),(-85.7333333333333,38.1833333333333,'Python'),(-90.25,29.9833333333333,'Java'),(-70.3166666666667,43.65,'R'),(-76.6666666666667,39.1833333333333,'R'),(-71.0333333333333,42.3666666666667,'R'),(-72.5333333333333,42.2,'R'),(-83.0166666666667,42.4166666666667,'Python'),(-84.6,42.7833333333333,'Python'),(-93.2166666666667,44.8833333333333,'Python'),(-90.0833333333333,32.3166666666667,'Java'),(-94.5833333333333,39.1166666666667,'Java'),(-90.3833333333333,38.75,'Python'),(-108.533333333333,45.8,'Python'),(-95.9,41.3,'Python'),(-115.166666666667,36.0833333333333,'Java'),(-71.4333333333333,42.9333333333333,'R'),(-74.1666666666667,40.7,'R'),(-106.616666666667,35.05,'Python'),(-78.7333333333333,42.9333333333333,'R'),(-73.9666666666667,40.7833333333333,'R'),(-80.9333333333333,35.2166666666667,'Python'),(-78.7833333333333,35.8666666666667,'Python'),(-100.75,46.7666666666667,'Java'),(-84.5166666666667,39.15,'Java'),(-81.85,41.4,'Java'),(-82.8833333333333,40,'Java'),(-97.6,35.4,'Python'),(-122.666666666667,45.5333333333333,'Python'),(-75.25,39.8833333333333,'Python'),(-80.2166666666667,40.5,'Python'),(-71.4333333333333,41.7333333333333,'R'),(-81.1166666666667,33.95,'R'),(-96.7333333333333,43.5666666666667,'Python'),(-90,35.05,'R'),(-86.6833333333333,36.1166666666667,'R'),(-97.7,30.3,'Python'),(-96.85,32.85,'Java'),(-95.35,29.9666666666667,'Java'),(-98.4666666666667,29.5333333333333,'Java'),(-111.966666666667,40.7666666666667,'Python'),(-73.15,44.4666666666667,'R'),(-77.3333333333333,37.5,'Python'),(-122.3,47.5333333333333,'Python'),(-89.3333333333333,43.1333333333333,'R'),(-104.816666666667,41.15,'Java')]\n",
    "cities = [([longitude, latitude], language) for longitude, latitude, language in cities]\n",
    "\n",
    "def knnClassify(k, labeledPoints, newPoint):\n",
    "    \"\"\"labeldPoints는 데이터 포인트, 레이블 쌍으로 구성됨.\"\"\"\n",
    "    \n",
    "    \"\"\"labeldPoints를 가까운 순서부터 먼 순서로 정렬\"\"\"\n",
    "    byDistance = sorted(labeledPoints,\n",
    "                        key=lambda pointLabel: distance(pointLabel[0], newPoint))\n",
    "                        \n",
    "    kNearest = [label for _, label in byDistance[:k]]\n",
    "                        \n",
    "    return majorityVote(kNearest)\n",
    "    "
   ]
  },
  {
   "cell_type": "code",
   "execution_count": 119,
   "metadata": {
    "collapsed": false
   },
   "outputs": [
    {
     "name": "stdout",
     "output_type": "stream",
     "text": [
      "1 neighbors[s]: 40 correct out of 75\n",
      "3 neighbors[s]: 44 correct out of 75\n",
      "5 neighbors[s]: 41 correct out of 75\n",
      "7 neighbors[s]: 35 correct out of 75\n"
     ]
    }
   ],
   "source": [
    "def testkNN(klist):\n",
    "    for k in klist:\n",
    "        numCorrect = 0\n",
    "        \n",
    "        for location, actualLanguage in cities:\n",
    "            otherCities = [otherCity \n",
    "                           for otherCity in cities\n",
    "                           if otherCity != (location, actualLanguage)]\n",
    "            \n",
    "            predictedLanguage = knnClassify(k, otherCities, location)\n",
    "            \n",
    "            if predictedLanguage == actualLanguage:\n",
    "                numCorrect += 1\n",
    "                \n",
    "        print(k, \"neighbors[s]:\", numCorrect, \"correct out of\", len(cities))\n",
    "    \n",
    "testkNN([1,3,5,7])\n",
    "# k 값을 3으로 정했을 때의 정확도가 가장 높다.\n",
    "# 3의 주변 수에 대해서 다음과 같은 시도도 해볼 수 있다."
   ]
  },
  {
   "cell_type": "code",
   "execution_count": 120,
   "metadata": {
    "collapsed": false
   },
   "outputs": [
    {
     "name": "stdout",
     "output_type": "stream",
     "text": [
      "2 neighbors[s]: 40 correct out of 75\n",
      "4 neighbors[s]: 44 correct out of 75\n",
      "0.5866666666666667\n"
     ]
    }
   ],
   "source": [
    "testkNN([2,4])\n",
    "print(44/75)\n",
    "# k=4일 때에도 약 59%의 정확도를 지닌다."
   ]
  },
  {
   "cell_type": "code",
   "execution_count": null,
   "metadata": {
    "collapsed": true
   },
   "outputs": [],
   "source": [
    "# 무작위 지점(차원)\n",
    "def randomPoint(dim):\n",
    "    return [random.random() for _ in range(dim)]\n",
    "\n",
    "# 무작위 지점과 지점간의 거리(차원, 쌍)\n",
    "def randomDistances(dim, numPairs):\n",
    "    return [distance(randomPoint(dim), randomPoint(dim)) for _ in range(numPairs)]\n",
    "\n",
    "dimensions = range(1, 101)\n",
    "\n",
    "avgDistances = []\n",
    "minDistances = []\n",
    "random.seed(0)\n",
    "\n",
    "for dim in dimensions:\n",
    "    distances = randomDistances(dim, 10000)\n",
    "    avgDistances.append(mean(distances))\n",
    "    minDistances.append(min(distances))\n",
    "   "
   ]
  },
  {
   "cell_type": "code",
   "execution_count": null,
   "metadata": {
    "collapsed": true
   },
   "outputs": [],
   "source": [
    "avgDistances"
   ]
  },
  {
   "cell_type": "code",
   "execution_count": null,
   "metadata": {
    "collapsed": true
   },
   "outputs": [],
   "source": []
  }
 ],
 "metadata": {
  "anaconda-cloud": {},
  "kernelspec": {
   "display_name": "Python [default]",
   "language": "python",
   "name": "python3"
  },
  "language_info": {
   "codemirror_mode": {
    "name": "ipython",
    "version": 3
   },
   "file_extension": ".py",
   "mimetype": "text/x-python",
   "name": "python",
   "nbconvert_exporter": "python",
   "pygments_lexer": "ipython3",
   "version": "3.5.2"
  }
 },
 "nbformat": 4,
 "nbformat_minor": 1
}
