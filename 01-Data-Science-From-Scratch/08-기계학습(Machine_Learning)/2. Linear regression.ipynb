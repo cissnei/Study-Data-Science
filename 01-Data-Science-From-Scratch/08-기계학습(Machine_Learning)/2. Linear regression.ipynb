{
 "cells": [
  {
   "cell_type": "code",
   "execution_count": 75,
   "metadata": {
    "collapsed": false
   },
   "outputs": [],
   "source": [
    "from stats import correlation, standard_deviation, mean, de_mean\n",
    "\n",
    "def predict(alpha, beta, x_i):\n",
    "    return beta * x_i + alpha\n",
    "\n",
    "def error(alpha, beta, x_i, y_i):\n",
    "    \"\"\"실제 결과가 y_i라고 할 때, beta*x_i+alpha로 계산된 예측값의 오류\"\"\"\n",
    "    return y_i - predict(alpha, beta, x_i)\\\n",
    "\n",
    "def sumOfSquaredErrors(alpha, beta, x, y):\n",
    "    return sum(error(alpha, beta, x_i, y_i) ** 2\n",
    "               for x_i, y_i in zip(x,y))\n",
    "\n",
    "def leastSquaresFit(x, y):  # 최소자승법\n",
    "    \"\"\"x와 y가 학습 데이터로 주어졌을 때\n",
    "    오류의 제곱 값을 최소화해 주는 알파와 베타 계산\"\"\"\n",
    "    beta = correlation(x, y) * standard_deviation(y) / standard_deviation(x)\n",
    "    alpha = mean(y) - beta * mean(x)\n",
    "    return alpha, beta"
   ]
  },
  {
   "cell_type": "markdown",
   "metadata": {},
   "source": [
    "표준편차 다시 짚기\n",
    "산포도를 나타내는 수치로 분산의 제곱근.\n",
    "확률 변수 X의 표준편차는 다음과 같다.\n",
    "\n",
    "$\\sigma = \\sqrt{\\operatorname{E}(X-\\operatorname{E}(X))^2} = \\sqrt{\\operatorname{E}(X^2) - (\\operatorname{E}(X))^2}$\n",
    "\n",
    "오류 최소화 방법이 왜 말이 될까? 독립 변수 x의 평균이 주어지면, 알파는 종속 변수 y의 평균을 예측해 준다.\n",
    "베타는 입력 변수가 standard_deviation(x)만큼 증가한다면 예측값 또한 correlation(x,y) x standard_deviation(y)만큼 증가한다는 것을 의미한다. **x와 y가 완벽한 양의 상관관계를 지닌다면, x가 1 표준편차 증가할 때마다 y또한 1 표준편차만큼 증가한다.** x와 y가 완벽한 음의 상관관계를 지닌다면, x가 증가할 때 y가 감소한다. 상관 관계가 0이라면 베타는 0이 되며, x가 예측에 아무 영향이 없다는 걸 의미한다."
   ]
  },
  {
   "cell_type": "code",
   "execution_count": 1,
   "metadata": {
    "collapsed": false
   },
   "outputs": [
    {
     "ename": "NameError",
     "evalue": "name 'leastSquaresFit' is not defined",
     "output_type": "error",
     "traceback": [
      "\u001b[0;31m---------------------------------------------------------------------------\u001b[0m",
      "\u001b[0;31mNameError\u001b[0m                                 Traceback (most recent call last)",
      "\u001b[0;32m<ipython-input-1-8778e34dc0f0>\u001b[0m in \u001b[0;36m<module>\u001b[0;34m()\u001b[0m\n\u001b[1;32m      2\u001b[0m \u001b[0mdaily_minutes\u001b[0m \u001b[1;33m=\u001b[0m \u001b[1;33m[\u001b[0m\u001b[1;36m68.77\u001b[0m\u001b[1;33m,\u001b[0m\u001b[1;36m51.25\u001b[0m\u001b[1;33m,\u001b[0m\u001b[1;36m52.08\u001b[0m\u001b[1;33m,\u001b[0m\u001b[1;36m38.36\u001b[0m\u001b[1;33m,\u001b[0m\u001b[1;36m44.54\u001b[0m\u001b[1;33m,\u001b[0m\u001b[1;36m57.13\u001b[0m\u001b[1;33m,\u001b[0m\u001b[1;36m51.4\u001b[0m\u001b[1;33m,\u001b[0m\u001b[1;36m41.42\u001b[0m\u001b[1;33m,\u001b[0m\u001b[1;36m31.22\u001b[0m\u001b[1;33m,\u001b[0m\u001b[1;36m34.76\u001b[0m\u001b[1;33m,\u001b[0m\u001b[1;36m54.01\u001b[0m\u001b[1;33m,\u001b[0m\u001b[1;36m38.79\u001b[0m\u001b[1;33m,\u001b[0m\u001b[1;36m47.59\u001b[0m\u001b[1;33m,\u001b[0m\u001b[1;36m49.1\u001b[0m\u001b[1;33m,\u001b[0m\u001b[1;36m27.66\u001b[0m\u001b[1;33m,\u001b[0m\u001b[1;36m41.03\u001b[0m\u001b[1;33m,\u001b[0m\u001b[1;36m36.73\u001b[0m\u001b[1;33m,\u001b[0m\u001b[1;36m48.65\u001b[0m\u001b[1;33m,\u001b[0m\u001b[1;36m28.12\u001b[0m\u001b[1;33m,\u001b[0m\u001b[1;36m46.62\u001b[0m\u001b[1;33m,\u001b[0m\u001b[1;36m35.57\u001b[0m\u001b[1;33m,\u001b[0m\u001b[1;36m32.98\u001b[0m\u001b[1;33m,\u001b[0m\u001b[1;36m35\u001b[0m\u001b[1;33m,\u001b[0m\u001b[1;36m26.07\u001b[0m\u001b[1;33m,\u001b[0m\u001b[1;36m23.77\u001b[0m\u001b[1;33m,\u001b[0m\u001b[1;36m39.73\u001b[0m\u001b[1;33m,\u001b[0m\u001b[1;36m40.57\u001b[0m\u001b[1;33m,\u001b[0m\u001b[1;36m31.65\u001b[0m\u001b[1;33m,\u001b[0m\u001b[1;36m31.21\u001b[0m\u001b[1;33m,\u001b[0m\u001b[1;36m36.32\u001b[0m\u001b[1;33m,\u001b[0m\u001b[1;36m20.45\u001b[0m\u001b[1;33m,\u001b[0m\u001b[1;36m21.93\u001b[0m\u001b[1;33m,\u001b[0m\u001b[1;36m26.02\u001b[0m\u001b[1;33m,\u001b[0m\u001b[1;36m27.34\u001b[0m\u001b[1;33m,\u001b[0m\u001b[1;36m23.49\u001b[0m\u001b[1;33m,\u001b[0m\u001b[1;36m46.94\u001b[0m\u001b[1;33m,\u001b[0m\u001b[1;36m30.5\u001b[0m\u001b[1;33m,\u001b[0m\u001b[1;36m33.8\u001b[0m\u001b[1;33m,\u001b[0m\u001b[1;36m24.23\u001b[0m\u001b[1;33m,\u001b[0m\u001b[1;36m21.4\u001b[0m\u001b[1;33m,\u001b[0m\u001b[1;36m27.94\u001b[0m\u001b[1;33m,\u001b[0m\u001b[1;36m32.24\u001b[0m\u001b[1;33m,\u001b[0m\u001b[1;36m40.57\u001b[0m\u001b[1;33m,\u001b[0m\u001b[1;36m25.07\u001b[0m\u001b[1;33m,\u001b[0m\u001b[1;36m19.42\u001b[0m\u001b[1;33m,\u001b[0m\u001b[1;36m22.39\u001b[0m\u001b[1;33m,\u001b[0m\u001b[1;36m18.42\u001b[0m\u001b[1;33m,\u001b[0m\u001b[1;36m46.96\u001b[0m\u001b[1;33m,\u001b[0m\u001b[1;36m23.72\u001b[0m\u001b[1;33m,\u001b[0m\u001b[1;36m26.41\u001b[0m\u001b[1;33m,\u001b[0m\u001b[1;36m26.97\u001b[0m\u001b[1;33m,\u001b[0m\u001b[1;36m36.76\u001b[0m\u001b[1;33m,\u001b[0m\u001b[1;36m40.32\u001b[0m\u001b[1;33m,\u001b[0m\u001b[1;36m35.02\u001b[0m\u001b[1;33m,\u001b[0m\u001b[1;36m29.47\u001b[0m\u001b[1;33m,\u001b[0m\u001b[1;36m30.2\u001b[0m\u001b[1;33m,\u001b[0m\u001b[1;36m31\u001b[0m\u001b[1;33m,\u001b[0m\u001b[1;36m38.11\u001b[0m\u001b[1;33m,\u001b[0m\u001b[1;36m38.18\u001b[0m\u001b[1;33m,\u001b[0m\u001b[1;36m36.31\u001b[0m\u001b[1;33m,\u001b[0m\u001b[1;36m21.03\u001b[0m\u001b[1;33m,\u001b[0m\u001b[1;36m30.86\u001b[0m\u001b[1;33m,\u001b[0m\u001b[1;36m36.07\u001b[0m\u001b[1;33m,\u001b[0m\u001b[1;36m28.66\u001b[0m\u001b[1;33m,\u001b[0m\u001b[1;36m29.08\u001b[0m\u001b[1;33m,\u001b[0m\u001b[1;36m37.28\u001b[0m\u001b[1;33m,\u001b[0m\u001b[1;36m15.28\u001b[0m\u001b[1;33m,\u001b[0m\u001b[1;36m24.17\u001b[0m\u001b[1;33m,\u001b[0m\u001b[1;36m22.31\u001b[0m\u001b[1;33m,\u001b[0m\u001b[1;36m30.17\u001b[0m\u001b[1;33m,\u001b[0m\u001b[1;36m25.53\u001b[0m\u001b[1;33m,\u001b[0m\u001b[1;36m19.85\u001b[0m\u001b[1;33m,\u001b[0m\u001b[1;36m35.37\u001b[0m\u001b[1;33m,\u001b[0m\u001b[1;36m44.6\u001b[0m\u001b[1;33m,\u001b[0m\u001b[1;36m17.23\u001b[0m\u001b[1;33m,\u001b[0m\u001b[1;36m13.47\u001b[0m\u001b[1;33m,\u001b[0m\u001b[1;36m26.33\u001b[0m\u001b[1;33m,\u001b[0m\u001b[1;36m35.02\u001b[0m\u001b[1;33m,\u001b[0m\u001b[1;36m32.09\u001b[0m\u001b[1;33m,\u001b[0m\u001b[1;36m24.81\u001b[0m\u001b[1;33m,\u001b[0m\u001b[1;36m19.33\u001b[0m\u001b[1;33m,\u001b[0m\u001b[1;36m28.77\u001b[0m\u001b[1;33m,\u001b[0m\u001b[1;36m24.26\u001b[0m\u001b[1;33m,\u001b[0m\u001b[1;36m31.98\u001b[0m\u001b[1;33m,\u001b[0m\u001b[1;36m25.73\u001b[0m\u001b[1;33m,\u001b[0m\u001b[1;36m24.86\u001b[0m\u001b[1;33m,\u001b[0m\u001b[1;36m16.28\u001b[0m\u001b[1;33m,\u001b[0m\u001b[1;36m34.51\u001b[0m\u001b[1;33m,\u001b[0m\u001b[1;36m15.23\u001b[0m\u001b[1;33m,\u001b[0m\u001b[1;36m39.72\u001b[0m\u001b[1;33m,\u001b[0m\u001b[1;36m40.8\u001b[0m\u001b[1;33m,\u001b[0m\u001b[1;36m26.06\u001b[0m\u001b[1;33m,\u001b[0m\u001b[1;36m35.76\u001b[0m\u001b[1;33m,\u001b[0m\u001b[1;36m34.76\u001b[0m\u001b[1;33m,\u001b[0m\u001b[1;36m16.13\u001b[0m\u001b[1;33m,\u001b[0m\u001b[1;36m44.04\u001b[0m\u001b[1;33m,\u001b[0m\u001b[1;36m18.03\u001b[0m\u001b[1;33m,\u001b[0m\u001b[1;36m19.65\u001b[0m\u001b[1;33m,\u001b[0m\u001b[1;36m32.62\u001b[0m\u001b[1;33m,\u001b[0m\u001b[1;36m35.59\u001b[0m\u001b[1;33m,\u001b[0m\u001b[1;36m39.43\u001b[0m\u001b[1;33m,\u001b[0m\u001b[1;36m14.18\u001b[0m\u001b[1;33m,\u001b[0m\u001b[1;36m35.24\u001b[0m\u001b[1;33m,\u001b[0m\u001b[1;36m40.13\u001b[0m\u001b[1;33m,\u001b[0m\u001b[1;36m41.82\u001b[0m\u001b[1;33m,\u001b[0m\u001b[1;36m35.45\u001b[0m\u001b[1;33m,\u001b[0m\u001b[1;36m36.07\u001b[0m\u001b[1;33m,\u001b[0m\u001b[1;36m43.67\u001b[0m\u001b[1;33m,\u001b[0m\u001b[1;36m24.61\u001b[0m\u001b[1;33m,\u001b[0m\u001b[1;36m20.9\u001b[0m\u001b[1;33m,\u001b[0m\u001b[1;36m21.9\u001b[0m\u001b[1;33m,\u001b[0m\u001b[1;36m18.79\u001b[0m\u001b[1;33m,\u001b[0m\u001b[1;36m27.61\u001b[0m\u001b[1;33m,\u001b[0m\u001b[1;36m27.21\u001b[0m\u001b[1;33m,\u001b[0m\u001b[1;36m26.61\u001b[0m\u001b[1;33m,\u001b[0m\u001b[1;36m29.77\u001b[0m\u001b[1;33m,\u001b[0m\u001b[1;36m20.59\u001b[0m\u001b[1;33m,\u001b[0m\u001b[1;36m27.53\u001b[0m\u001b[1;33m,\u001b[0m\u001b[1;36m13.82\u001b[0m\u001b[1;33m,\u001b[0m\u001b[1;36m33.2\u001b[0m\u001b[1;33m,\u001b[0m\u001b[1;36m25\u001b[0m\u001b[1;33m,\u001b[0m\u001b[1;36m33.1\u001b[0m\u001b[1;33m,\u001b[0m\u001b[1;36m36.65\u001b[0m\u001b[1;33m,\u001b[0m\u001b[1;36m18.63\u001b[0m\u001b[1;33m,\u001b[0m\u001b[1;36m14.87\u001b[0m\u001b[1;33m,\u001b[0m\u001b[1;36m22.2\u001b[0m\u001b[1;33m,\u001b[0m\u001b[1;36m36.81\u001b[0m\u001b[1;33m,\u001b[0m\u001b[1;36m25.53\u001b[0m\u001b[1;33m,\u001b[0m\u001b[1;36m24.62\u001b[0m\u001b[1;33m,\u001b[0m\u001b[1;36m26.25\u001b[0m\u001b[1;33m,\u001b[0m\u001b[1;36m18.21\u001b[0m\u001b[1;33m,\u001b[0m\u001b[1;36m28.08\u001b[0m\u001b[1;33m,\u001b[0m\u001b[1;36m19.42\u001b[0m\u001b[1;33m,\u001b[0m\u001b[1;36m29.79\u001b[0m\u001b[1;33m,\u001b[0m\u001b[1;36m32.8\u001b[0m\u001b[1;33m,\u001b[0m\u001b[1;36m35.99\u001b[0m\u001b[1;33m,\u001b[0m\u001b[1;36m28.32\u001b[0m\u001b[1;33m,\u001b[0m\u001b[1;36m27.79\u001b[0m\u001b[1;33m,\u001b[0m\u001b[1;36m35.88\u001b[0m\u001b[1;33m,\u001b[0m\u001b[1;36m29.06\u001b[0m\u001b[1;33m,\u001b[0m\u001b[1;36m36.28\u001b[0m\u001b[1;33m,\u001b[0m\u001b[1;36m14.1\u001b[0m\u001b[1;33m,\u001b[0m\u001b[1;36m36.63\u001b[0m\u001b[1;33m,\u001b[0m\u001b[1;36m37.49\u001b[0m\u001b[1;33m,\u001b[0m\u001b[1;36m26.9\u001b[0m\u001b[1;33m,\u001b[0m\u001b[1;36m18.58\u001b[0m\u001b[1;33m,\u001b[0m\u001b[1;36m38.48\u001b[0m\u001b[1;33m,\u001b[0m\u001b[1;36m24.48\u001b[0m\u001b[1;33m,\u001b[0m\u001b[1;36m18.95\u001b[0m\u001b[1;33m,\u001b[0m\u001b[1;36m33.55\u001b[0m\u001b[1;33m,\u001b[0m\u001b[1;36m14.24\u001b[0m\u001b[1;33m,\u001b[0m\u001b[1;36m29.04\u001b[0m\u001b[1;33m,\u001b[0m\u001b[1;36m32.51\u001b[0m\u001b[1;33m,\u001b[0m\u001b[1;36m25.63\u001b[0m\u001b[1;33m,\u001b[0m\u001b[1;36m22.22\u001b[0m\u001b[1;33m,\u001b[0m\u001b[1;36m19\u001b[0m\u001b[1;33m,\u001b[0m\u001b[1;36m32.73\u001b[0m\u001b[1;33m,\u001b[0m\u001b[1;36m15.16\u001b[0m\u001b[1;33m,\u001b[0m\u001b[1;36m13.9\u001b[0m\u001b[1;33m,\u001b[0m\u001b[1;36m27.2\u001b[0m\u001b[1;33m,\u001b[0m\u001b[1;36m32.01\u001b[0m\u001b[1;33m,\u001b[0m\u001b[1;36m29.27\u001b[0m\u001b[1;33m,\u001b[0m\u001b[1;36m33\u001b[0m\u001b[1;33m,\u001b[0m\u001b[1;36m13.74\u001b[0m\u001b[1;33m,\u001b[0m\u001b[1;36m20.42\u001b[0m\u001b[1;33m,\u001b[0m\u001b[1;36m27.32\u001b[0m\u001b[1;33m,\u001b[0m\u001b[1;36m18.23\u001b[0m\u001b[1;33m,\u001b[0m\u001b[1;36m35.35\u001b[0m\u001b[1;33m,\u001b[0m\u001b[1;36m28.48\u001b[0m\u001b[1;33m,\u001b[0m\u001b[1;36m9.08\u001b[0m\u001b[1;33m,\u001b[0m\u001b[1;36m24.62\u001b[0m\u001b[1;33m,\u001b[0m\u001b[1;36m20.12\u001b[0m\u001b[1;33m,\u001b[0m\u001b[1;36m35.26\u001b[0m\u001b[1;33m,\u001b[0m\u001b[1;36m19.92\u001b[0m\u001b[1;33m,\u001b[0m\u001b[1;36m31.02\u001b[0m\u001b[1;33m,\u001b[0m\u001b[1;36m16.49\u001b[0m\u001b[1;33m,\u001b[0m\u001b[1;36m12.16\u001b[0m\u001b[1;33m,\u001b[0m\u001b[1;36m30.7\u001b[0m\u001b[1;33m,\u001b[0m\u001b[1;36m31.22\u001b[0m\u001b[1;33m,\u001b[0m\u001b[1;36m34.65\u001b[0m\u001b[1;33m,\u001b[0m\u001b[1;36m13.13\u001b[0m\u001b[1;33m,\u001b[0m\u001b[1;36m27.51\u001b[0m\u001b[1;33m,\u001b[0m\u001b[1;36m33.2\u001b[0m\u001b[1;33m,\u001b[0m\u001b[1;36m31.57\u001b[0m\u001b[1;33m,\u001b[0m\u001b[1;36m14.1\u001b[0m\u001b[1;33m,\u001b[0m\u001b[1;36m33.42\u001b[0m\u001b[1;33m,\u001b[0m\u001b[1;36m17.44\u001b[0m\u001b[1;33m,\u001b[0m\u001b[1;36m10.12\u001b[0m\u001b[1;33m,\u001b[0m\u001b[1;36m24.42\u001b[0m\u001b[1;33m,\u001b[0m\u001b[1;36m9.82\u001b[0m\u001b[1;33m,\u001b[0m\u001b[1;36m23.39\u001b[0m\u001b[1;33m,\u001b[0m\u001b[1;36m30.93\u001b[0m\u001b[1;33m,\u001b[0m\u001b[1;36m15.03\u001b[0m\u001b[1;33m,\u001b[0m\u001b[1;36m21.67\u001b[0m\u001b[1;33m,\u001b[0m\u001b[1;36m31.09\u001b[0m\u001b[1;33m,\u001b[0m\u001b[1;36m33.29\u001b[0m\u001b[1;33m,\u001b[0m\u001b[1;36m22.61\u001b[0m\u001b[1;33m,\u001b[0m\u001b[1;36m26.89\u001b[0m\u001b[1;33m,\u001b[0m\u001b[1;36m23.48\u001b[0m\u001b[1;33m,\u001b[0m\u001b[1;36m8.38\u001b[0m\u001b[1;33m,\u001b[0m\u001b[1;36m27.81\u001b[0m\u001b[1;33m,\u001b[0m\u001b[1;36m32.35\u001b[0m\u001b[1;33m,\u001b[0m\u001b[1;36m23.84\u001b[0m\u001b[1;33m]\u001b[0m\u001b[1;33m\u001b[0m\u001b[0m\n\u001b[1;32m      3\u001b[0m \u001b[1;33m\u001b[0m\u001b[0m\n\u001b[0;32m----> 4\u001b[0;31m \u001b[0malpha\u001b[0m\u001b[1;33m,\u001b[0m \u001b[0mbeta\u001b[0m \u001b[1;33m=\u001b[0m \u001b[0mleastSquaresFit\u001b[0m\u001b[1;33m(\u001b[0m\u001b[0mnum_friends\u001b[0m\u001b[1;33m,\u001b[0m \u001b[0mdaily_minutes\u001b[0m\u001b[1;33m)\u001b[0m\u001b[1;33m\u001b[0m\u001b[0m\n\u001b[0m",
      "\u001b[0;31mNameError\u001b[0m: name 'leastSquaresFit' is not defined"
     ]
    }
   ],
   "source": [
    "num_friends = [49,41,40,25,21,21,19,19,18,18,16,15,15,15,15,14,14,13,13,13,13,12,12,11,10,10,10,10,10,10,10,10,10,10,10,10,10,10,10,9,9,9,9,9,9,9,9,9,9,9,9,9,9,9,9,9,9,8,8,8,8,8,8,8,8,8,8,8,8,8,7,7,7,7,7,7,7,7,7,7,7,7,7,7,7,6,6,6,6,6,6,6,6,6,6,6,6,6,6,6,6,6,6,6,6,6,6,5,5,5,5,5,5,5,5,5,5,5,5,5,5,5,5,5,4,4,4,4,4,4,4,4,4,4,4,4,4,4,4,4,4,4,4,4,3,3,3,3,3,3,3,3,3,3,3,3,3,3,3,3,3,3,3,3,2,2,2,2,2,2,2,2,2,2,2,2,2,2,2,2,2,1,1,1,1,1,1,1,1,1,1,1,1,1,1,1,1,1,1,1,1,1,1]\n",
    "daily_minutes = [68.77,51.25,52.08,38.36,44.54,57.13,51.4,41.42,31.22,34.76,54.01,38.79,47.59,49.1,27.66,41.03,36.73,48.65,28.12,46.62,35.57,32.98,35,26.07,23.77,39.73,40.57,31.65,31.21,36.32,20.45,21.93,26.02,27.34,23.49,46.94,30.5,33.8,24.23,21.4,27.94,32.24,40.57,25.07,19.42,22.39,18.42,46.96,23.72,26.41,26.97,36.76,40.32,35.02,29.47,30.2,31,38.11,38.18,36.31,21.03,30.86,36.07,28.66,29.08,37.28,15.28,24.17,22.31,30.17,25.53,19.85,35.37,44.6,17.23,13.47,26.33,35.02,32.09,24.81,19.33,28.77,24.26,31.98,25.73,24.86,16.28,34.51,15.23,39.72,40.8,26.06,35.76,34.76,16.13,44.04,18.03,19.65,32.62,35.59,39.43,14.18,35.24,40.13,41.82,35.45,36.07,43.67,24.61,20.9,21.9,18.79,27.61,27.21,26.61,29.77,20.59,27.53,13.82,33.2,25,33.1,36.65,18.63,14.87,22.2,36.81,25.53,24.62,26.25,18.21,28.08,19.42,29.79,32.8,35.99,28.32,27.79,35.88,29.06,36.28,14.1,36.63,37.49,26.9,18.58,38.48,24.48,18.95,33.55,14.24,29.04,32.51,25.63,22.22,19,32.73,15.16,13.9,27.2,32.01,29.27,33,13.74,20.42,27.32,18.23,35.35,28.48,9.08,24.62,20.12,35.26,19.92,31.02,16.49,12.16,30.7,31.22,34.65,13.13,27.51,33.2,31.57,14.1,33.42,17.44,10.12,24.42,9.82,23.39,30.93,15.03,21.67,31.09,33.29,22.61,26.89,23.48,8.38,27.81,32.35,23.84]\n",
    "\n",
    "alpha, beta = leastSquaresFit(num_friends, daily_minutes)\n"
   ]
  },
  {
   "cell_type": "code",
   "execution_count": 66,
   "metadata": {
    "collapsed": false
   },
   "outputs": [
    {
     "name": "stdout",
     "output_type": "stream",
     "text": [
      "22.94755241346903 0.903865945605865\n"
     ]
    }
   ],
   "source": [
    "print(alpha, beta)\n",
    "\n",
    "alphax = []\n",
    "\n",
    "for i in range(51):\n",
    "    alphax.append((i+alpha)*beta)\n"
   ]
  },
  {
   "cell_type": "code",
   "execution_count": 68,
   "metadata": {
    "collapsed": false
   },
   "outputs": [
    {
     "data": {
      "image/png": "[encoded data removed]",
      "text/plain": [
       "<matplotlib.figure.Figure at 0x18dab6d97f0>"
      ]
     },
     "metadata": {},
     "output_type": "display_data"
    }
   ],
   "source": [
    "from matplotlib import pyplot as plt\n",
    "plt.scatter(num_friends, daily_minutes)\n",
    "plt.plot(alphax)\n",
    "plt.title(\"Simple linear regression model\")\n",
    "plt.xlabel(\"# of friends\")\n",
    "plt.ylabel(\"minutes per day\")\n",
    "plt.axis([0,50,0,105])\n",
    "plt.show()"
   ]
  },
  {
   "cell_type": "code",
   "execution_count": 73,
   "metadata": {
    "collapsed": false
   },
   "outputs": [],
   "source": [
    "def totalSumOfSquares(y):\n",
    "    \"\"\"평균을 기준으로 y_i의 변화량을 제곱한 값의 총합\"\"\"\n",
    "    return sum(v ** 2 for v in de_mean(y))\n",
    "\n",
    "def rSquared(alpha, beta, x, y):\n",
    "    \"\"\"모델이 잡아낼 수 있는 변화량의 비는 1 - 모델이 잡아낼 수 없는 변화량의 비이다.\"\"\"\n",
    "    \"\"\"모델이 잡아낼 수 없는 변화량 = 오류 / 평균 기준 y_i 변화량의 총값\"\"\"\n",
    "    return 1.0 - (sumOfSquaredErrors(alpha, beta, x, y) / totalSumOfSquares(y))"
   ]
  },
  {
   "cell_type": "code",
   "execution_count": 76,
   "metadata": {
    "collapsed": false
   },
   "outputs": [
    {
     "data": {
      "text/plain": [
       "0.3291078377836305"
      ]
     },
     "execution_count": 76,
     "metadata": {},
     "output_type": "execute_result"
    }
   ],
   "source": [
    "rSquared(alpha, beta, num_friends, daily_minutes)"
   ]
  },
  {
   "cell_type": "code",
   "execution_count": 87,
   "metadata": {
    "collapsed": true
   },
   "outputs": [],
   "source": [
    "from gradient_descent import minimize_stochastic\n",
    "import random\n",
    "\n",
    "def squaredError(x_i, y_i, theta):\n",
    "    alpha, beta = theta\n",
    "    return error(alpha, beta, x_i, y_i) ** 2\n",
    "\n",
    "def squaredErrorGradient(x_i, y_i, theta):\n",
    "    alpha, beta = theta\n",
    "    return [-2 * error(alpha, beta, x_i, y_i),       # 알파에 대한 편미분\n",
    "            -2 * error(alpha, beta, x_i, y_i) * x_i]  # 베타에 대한 편미분\n",
    "\n",
    "random.seed(0)\n",
    "theta = [random.random(), random.random()]\n",
    "alpha, beta = minimize_stochastic(squaredError,\n",
    "                                 squaredErrorGradient,\n",
    "                                 num_friends,\n",
    "                                 daily_minutes,\n",
    "                                 theta,\n",
    "                                 0.0001)"
   ]
  },
  {
   "cell_type": "code",
   "execution_count": 91,
   "metadata": {
    "collapsed": false
   },
   "outputs": [
    {
     "data": {
      "text/plain": [
       "0.9043371597664965"
      ]
     },
     "execution_count": 91,
     "metadata": {},
     "output_type": "execute_result"
    }
   ],
   "source": [
    "beta"
   ]
  },
  {
   "cell_type": "markdown",
   "metadata": {},
   "source": [
    "$$\\sigma = \\sqrt{\\operatorname{E}(X-\\operatorname{E}(X))^2} = \\sqrt{\\operatorname{E}(X^2) - (\\operatorname{E}(X))^2}$$"
   ]
  },
  {
   "cell_type": "code",
   "execution_count": null,
   "metadata": {
    "collapsed": true
   },
   "outputs": [],
   "source": []
  },
  {
   "cell_type": "code",
   "execution_count": null,
   "metadata": {
    "collapsed": true
   },
   "outputs": [],
   "source": []
  }
 ],
 "metadata": {
  "anaconda-cloud": {},
  "kernelspec": {
   "display_name": "Python [default]",
   "language": "python",
   "name": "python3"
  },
  "language_info": {
   "codemirror_mode": {
    "name": "ipython",
    "version": 3
   },
   "file_extension": ".py",
   "mimetype": "text/x-python",
   "name": "python",
   "nbconvert_exporter": "python",
   "pygments_lexer": "ipython3",
   "version": "3.5.2"
  }
 },
 "nbformat": 4,
 "nbformat_minor": 1
}
