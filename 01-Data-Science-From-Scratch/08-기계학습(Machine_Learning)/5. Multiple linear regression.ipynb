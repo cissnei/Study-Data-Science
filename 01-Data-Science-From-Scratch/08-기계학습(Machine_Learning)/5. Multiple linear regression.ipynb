{
 "cells": [
  {
   "cell_type": "code",
   "execution_count": 45,
   "metadata": {
    "collapsed": false
   },
   "outputs": [],
   "source": [
    "import random\n",
    "from functools import partial\n",
    "from probability import normal_cdf\n",
    "from stats import mean, median, standard_deviation\n",
    "from linear_algebra import dot, vector_add\n",
    "from simple_linear_regression import total_sum_of_squares\n",
    "from gradient_descent import minimize_stochastic\n",
    "\n",
    "def predict(x_i, beta):\n",
    "    \"\"\"각 x_i의 첫 항목은 1이라고 가정\"\"\"\n",
    "    return dot(x_i, beta)\n",
    "\n",
    "def error(x_i, y_i, beta):\n",
    "    return y_i - predict(x_i, beta)\n",
    "\n",
    "def squaredErrors(x_i, y_i, beta):\n",
    "    return error(x_i, y_i, beta) ** 2\n",
    "\n",
    "def squaredErrorGradient(x_i, y_i, beta):\n",
    "    \"\"\"i번째 오류 제곱 값의 beta에 대한 기울기\"\"\"\n",
    "    return [-2 * x_ij * error(x_i, y_i, beta) for x_ij in x_i]\n",
    "\n",
    "random.seed(0)\n",
    "def estimateBeta(x, y):\n",
    "    betaInitial = [random.random() for x_i in x[0]]\n",
    "    return minimize_stochastic(squaredErrors,\n",
    "                               squaredErrorGradient,\n",
    "                               x, y,\n",
    "                               betaInitial,\n",
    "                               0.001)\n",
    "\n",
    "x = [[1,49,4,0],[1,41,9,0],[1,40,8,0],[1,25,6,0],[1,21,1,0],[1,21,0,0],[1,19,3,0],[1,19,0,0],[1,18,9,0],[1,18,8,0],[1,16,4,0],[1,15,3,0],[1,15,0,0],[1,15,2,0],[1,15,7,0],[1,14,0,0],[1,14,1,0],[1,13,1,0],[1,13,7,0],[1,13,4,0],[1,13,2,0],[1,12,5,0],[1,12,0,0],[1,11,9,0],[1,10,9,0],[1,10,1,0],[1,10,1,0],[1,10,7,0],[1,10,9,0],[1,10,1,0],[1,10,6,0],[1,10,6,0],[1,10,8,0],[1,10,10,0],[1,10,6,0],[1,10,0,0],[1,10,5,0],[1,10,3,0],[1,10,4,0],[1,9,9,0],[1,9,9,0],[1,9,0,0],[1,9,0,0],[1,9,6,0],[1,9,10,0],[1,9,8,0],[1,9,5,0],[1,9,2,0],[1,9,9,0],[1,9,10,0],[1,9,7,0],[1,9,2,0],[1,9,0,0],[1,9,4,0],[1,9,6,0],[1,9,4,0],[1,9,7,0],[1,8,3,0],[1,8,2,0],[1,8,4,0],[1,8,9,0],[1,8,2,0],[1,8,3,0],[1,8,5,0],[1,8,8,0],[1,8,0,0],[1,8,9,0],[1,8,10,0],[1,8,5,0],[1,8,5,0],[1,7,5,0],[1,7,5,0],[1,7,0,0],[1,7,2,0],[1,7,8,0],[1,7,10,0],[1,7,5,0],[1,7,3,0],[1,7,3,0],[1,7,6,0],[1,7,7,0],[1,7,7,0],[1,7,9,0],[1,7,3,0],[1,7,8,0],[1,6,4,0],[1,6,6,0],[1,6,4,0],[1,6,9,0],[1,6,0,0],[1,6,1,0],[1,6,4,0],[1,6,1,0],[1,6,0,0],[1,6,7,0],[1,6,0,0],[1,6,8,0],[1,6,4,0],[1,6,2,1],[1,6,1,1],[1,6,3,1],[1,6,6,1],[1,6,4,1],[1,6,4,1],[1,6,1,1],[1,6,3,1],[1,6,4,1],[1,5,1,1],[1,5,9,1],[1,5,4,1],[1,5,6,1],[1,5,4,1],[1,5,4,1],[1,5,10,1],[1,5,5,1],[1,5,2,1],[1,5,4,1],[1,5,4,1],[1,5,9,1],[1,5,3,1],[1,5,10,1],[1,5,2,1],[1,5,2,1],[1,5,9,1],[1,4,8,1],[1,4,6,1],[1,4,0,1],[1,4,10,1],[1,4,5,1],[1,4,10,1],[1,4,9,1],[1,4,1,1],[1,4,4,1],[1,4,4,1],[1,4,0,1],[1,4,3,1],[1,4,1,1],[1,4,3,1],[1,4,2,1],[1,4,4,1],[1,4,4,1],[1,4,8,1],[1,4,2,1],[1,4,4,1],[1,3,2,1],[1,3,6,1],[1,3,4,1],[1,3,7,1],[1,3,4,1],[1,3,1,1],[1,3,10,1],[1,3,3,1],[1,3,4,1],[1,3,7,1],[1,3,5,1],[1,3,6,1],[1,3,1,1],[1,3,6,1],[1,3,10,1],[1,3,2,1],[1,3,4,1],[1,3,2,1],[1,3,1,1],[1,3,5,1],[1,2,4,1],[1,2,2,1],[1,2,8,1],[1,2,3,1],[1,2,1,1],[1,2,9,1],[1,2,10,1],[1,2,9,1],[1,2,4,1],[1,2,5,1],[1,2,0,1],[1,2,9,1],[1,2,9,1],[1,2,0,1],[1,2,1,1],[1,2,1,1],[1,2,4,1],[1,1,0,1],[1,1,2,1],[1,1,2,1],[1,1,5,1],[1,1,3,1],[1,1,10,1],[1,1,6,1],[1,1,0,1],[1,1,8,1],[1,1,6,1],[1,1,4,1],[1,1,9,1],[1,1,9,1],[1,1,4,1],[1,1,2,1],[1,1,9,1],[1,1,0,1],[1,1,8,1],[1,1,6,1],[1,1,1,1],[1,1,1,1],[1,1,5,1]]\n",
    "daily_minutes = [68.77,51.25,52.08,38.36,44.54,57.13,51.4,41.42,31.22,34.76,54.01,38.79,47.59,49.1,27.66,41.03,36.73,48.65,28.12,46.62,35.57,32.98,35,26.07,23.77,39.73,40.57,31.65,31.21,36.32,20.45,21.93,26.02,27.34,23.49,46.94,30.5,33.8,24.23,21.4,27.94,32.24,40.57,25.07,19.42,22.39,18.42,46.96,23.72,26.41,26.97,36.76,40.32,35.02,29.47,30.2,31,38.11,38.18,36.31,21.03,30.86,36.07,28.66,29.08,37.28,15.28,24.17,22.31,30.17,25.53,19.85,35.37,44.6,17.23,13.47,26.33,35.02,32.09,24.81,19.33,28.77,24.26,31.98,25.73,24.86,16.28,34.51,15.23,39.72,40.8,26.06,35.76,34.76,16.13,44.04,18.03,19.65,32.62,35.59,39.43,14.18,35.24,40.13,41.82,35.45,36.07,43.67,24.61,20.9,21.9,18.79,27.61,27.21,26.61,29.77,20.59,27.53,13.82,33.2,25,33.1,36.65,18.63,14.87,22.2,36.81,25.53,24.62,26.25,18.21,28.08,19.42,29.79,32.8,35.99,28.32,27.79,35.88,29.06,36.28,14.1,36.63,37.49,26.9,18.58,38.48,24.48,18.95,33.55,14.24,29.04,32.51,25.63,22.22,19,32.73,15.16,13.9,27.2,32.01,29.27,33,13.74,20.42,27.32,18.23,35.35,28.48,9.08,24.62,20.12,35.26,19.92,31.02,16.49,12.16,30.7,31.22,34.65,13.13,27.51,33.2,31.57,14.1,33.42,17.44,10.12,24.42,9.82,23.39,30.93,15.03,21.67,31.09,33.29,22.61,26.89,23.48,8.38,27.81,32.35,23.84]\n",
    "\n",
    "beta = estimateBeta(x, daily_minutes) "
   ]
  },
  {
   "cell_type": "code",
   "execution_count": 14,
   "metadata": {
    "collapsed": false
   },
   "outputs": [
    {
     "data": {
      "text/plain": [
       "[30.619881701311712,\n",
       " 0.9702056472470465,\n",
       " -1.8671913880379478,\n",
       " 0.9163711597955347]"
      ]
     },
     "execution_count": 14,
     "metadata": {},
     "output_type": "execute_result"
    }
   ],
   "source": [
    "beta # 분 = 30.619 + 0.97 친구수 - 1.868 근무 시간 + 0.916 박사 학위 취득 여부"
   ]
  },
  {
   "cell_type": "code",
   "execution_count": 15,
   "metadata": {
    "collapsed": true
   },
   "outputs": [],
   "source": [
    "def multipleRSquared(x,y,beta):\n",
    "    sumOfSquaredErrors = sum(error(x_i, y_i, beta) ** 2\n",
    "                             for x_i, y_i in zip(x, y))\n",
    "    return 1.0 - sumOfSquaredErrors / total_sum_of_squares(y)\n"
   ]
  },
  {
   "cell_type": "code",
   "execution_count": 16,
   "metadata": {
    "collapsed": false
   },
   "outputs": [
    {
     "data": {
      "text/plain": [
       "0.6800074955952597"
      ]
     },
     "execution_count": 16,
     "metadata": {},
     "output_type": "execute_result"
    }
   ],
   "source": [
    "multipleRSquared(x,daily_minutes,beta)"
   ]
  },
  {
   "cell_type": "code",
   "execution_count": 5,
   "metadata": {
    "collapsed": false
   },
   "outputs": [],
   "source": [
    "def bootstrapSample(data):\n",
    "    \"\"\"무작위 값을 len(data)만큼 재추출\"\"\"\n",
    "    return [random.choice(data) for _ in data]\n",
    "\n",
    "def bootstrapStatistics(data, statsFn, numSamples):\n",
    "    return [statsFn(bootstrapSample(data)) for _ in range(numSamples)]\n",
    "\n",
    "closeTo100 = ( [ 99.5 + random.random() for _ in range(101)] )\n",
    "farFrom100 = ( [99.5 + random.random()] +\n",
    "               [random.random() for _ in range(50)] +\n",
    "               [200 + random.random() for _ in range(50)] )"
   ]
  },
  {
   "cell_type": "code",
   "execution_count": 6,
   "metadata": {
    "collapsed": false
   },
   "outputs": [
    {
     "name": "stdout",
     "output_type": "stream",
     "text": [
      "Close to 100 :  [100.02634537429101, 100.06586584030461, 100.06850285070729, 100.06586584030461, 100.08022923777746, 100.02634537429101, 100.0251392489555, 100.06586584030461, 100.0251392489555, 100.18315165595742]\n",
      "\n",
      "Far from 100 :  [0.9632764195933914, 0.9229610720300252, 200.043346407288, 0.9819299666825538, 200.01173496311017, 200.01173496311017, 0.828944660511035, 200.0254523027627, 0.9819299666825538, 0.9679946120377706]\n"
     ]
    }
   ],
   "source": [
    "print(\"Close to 100 : \",bootstrapStatistics(closeTo100, median, 10))\n",
    "print(\"\")\n",
    "print(\"Far from 100 : \",bootstrapStatistics(farFrom100, median, 10))"
   ]
  },
  {
   "cell_type": "code",
   "execution_count": 7,
   "metadata": {
    "collapsed": false
   },
   "outputs": [
    {
     "data": {
      "text/plain": [
       "0.04444977471962073"
      ]
     },
     "execution_count": 7,
     "metadata": {},
     "output_type": "execute_result"
    }
   ],
   "source": [
    "standard_deviation(bootstrapStatistics(closeTo100, median, 10))"
   ]
  },
  {
   "cell_type": "code",
   "execution_count": 8,
   "metadata": {
    "collapsed": false
   },
   "outputs": [],
   "source": [
    "def estimateSampleBeta(sample):\n",
    "    \"\"\"sample은 (x_i,y_i)의 list\"\"\"\n",
    "    x_sample, y_sample = zip(*sample)    # zip을 풀어주는 마법\n",
    "    return estimateBeta(x_sample, y_sample)\n",
    "\n",
    "random.seed(0)\n",
    "\n",
    "bootstrapBetas = bootstrapStatistics(list(zip(x, daily_minutes)),\n",
    "                                    estimateSampleBeta,\n",
    "                                    100)"
   ]
  },
  {
   "cell_type": "code",
   "execution_count": 11,
   "metadata": {
    "collapsed": false
   },
   "outputs": [],
   "source": [
    "bootstrapStandardErrors = [ standard_deviation([beta[i] for beta in bootstrapBetas]) for i in range(4)]"
   ]
  },
  {
   "cell_type": "code",
   "execution_count": 24,
   "metadata": {
    "collapsed": true
   },
   "outputs": [],
   "source": [
    "def pValue(betaHatJ, sigmaHatJ):\n",
    "    if betaHatJ > 0:\n",
    "        return 2 * (1 - normal_cdf(betaHatJ / sigmaHatJ))\n",
    "    else:\n",
    "        return 2 * normal_cdf(betaHatJ / sigmaHatJ)\n"
   ]
  },
  {
   "cell_type": "code",
   "execution_count": 34,
   "metadata": {
    "collapsed": false,
    "scrolled": true
   },
   "outputs": [
    {
     "name": "stdout",
     "output_type": "stream",
     "text": [
      "0.0\n",
      "0.0\n",
      "0.0\n",
      "0.28626264064150586\n"
     ]
    }
   ],
   "source": [
    "print(pValue(30.619, 0.970))\n",
    "print(pValue(0.97, 0.062))\n",
    "print(pValue(-1.867, 0.117))\n",
    "print(pValue(0.916, 0.859))"
   ]
  },
  {
   "cell_type": "code",
   "execution_count": 32,
   "metadata": {
    "collapsed": false
   },
   "outputs": [
    {
     "name": "stdout",
     "output_type": "stream",
     "text": [
      "[30.619881701311712, 0.9702056472470465, -1.8671913880379478, 0.9163711597955347] \n",
      " [0.953551702104508, 0.06288763616183773, 0.11722269488203318, 0.8591786495949066]\n"
     ]
    }
   ],
   "source": [
    "print(beta,\"\\n\",bootstrapStandardErrors)"
   ]
  },
  {
   "cell_type": "code",
   "execution_count": 50,
   "metadata": {
    "collapsed": false
   },
   "outputs": [],
   "source": [
    "# alpha는 패널티의 강도를 조절하는 하이퍼파라미터이다.\n",
    "# 보통은 lambda를 쓰지만 이는 파이썬에서 이미 사용중이다.\n",
    "\n",
    "def ridge_penalty(beta, alpha):\n",
    "    return alpha * dot(beta[1:], beta[1:])\n",
    "\n",
    "def squared_error_ridge(x_i, y_i, beta, alpha):\n",
    "    \"\"\"beta를 사용할 때 오류와 패널티의 합 추정\"\"\"\n",
    "    return error(x_i,y_i, beta) ** 2 + ridge_penalty(beta,alpha)\n",
    "\n",
    "def ridge_penalty_gradient(beta, alpha):\n",
    "    return [0] + [2 * alpha * beta_j for beta_j in beta[1:]]\n",
    "    \n",
    "# 경사하강법을 통해 학습시킬 수 있다.\n",
    "def squared_error_ridge_gradient(x_i, y_i, beta, alpha):\n",
    "    return vector_add(squaredErrorGradient(x_i, y_i, beta),\n",
    "                     ridge_penalty_gradient(beta, alpha))\n",
    "\n",
    "def estimate_beta_ridge(x,y,alpha):\n",
    "    \"\"\"패널티가 alpha인 리지 회귀를 경사하강법으로 학습\"\"\"\n",
    "    beta_initial = [random.random() for x_i in x[0]]\n",
    "    return minimize_stochastic(partial(squared_error_ridge, alpha=alpha),\n",
    "                               partial(squared_error_ridge_gradient,\n",
    "                                      alpha=alpha),\n",
    "                                      x,y,\n",
    "                                      beta_initial,\n",
    "                                      0.001)"
   ]
  },
  {
   "cell_type": "code",
   "execution_count": 56,
   "metadata": {
    "collapsed": false
   },
   "outputs": [
    {
     "name": "stdout",
     "output_type": "stream",
     "text": [
      "0.6800074955952597\n",
      "[30.619881701311712, 0.9702056472470465, -1.8671913880379478, 0.9163711597955347]\n",
      "0.680010213297079\n",
      "[30.55985204967343, 0.9730655363505671, -1.8624424625144256, 0.9317665551046306]\n",
      "0.6797276241305292\n",
      "[30.894860179735474, 0.9490275238632391, -1.8501720889216575, 0.5325129720515789]\n",
      "0.5745539861941786\n",
      "[28.43248665430619, 0.7246794348835753, -0.9225528545940292, -0.01951794239121216]\n"
     ]
    }
   ],
   "source": [
    "random.seed(0)\n",
    "beta_0 = estimate_beta_ridge(x, daily_minutes, alpha=0.0)\n",
    "print(multipleRSquared(x, daily_minutes, beta_0))\n",
    "print(beta_0)\n",
    "beta_0 = estimate_beta_ridge(x, daily_minutes, alpha=0.01)\n",
    "print(multipleRSquared(x, daily_minutes, beta_0))\n",
    "print(beta_0)\n",
    "beta_0 = estimate_beta_ridge(x, daily_minutes, alpha=0.1)\n",
    "print(multipleRSquared(x, daily_minutes, beta_0))\n",
    "print(beta_0)\n",
    "beta_0 = estimate_beta_ridge(x, daily_minutes, alpha=10)\n",
    "print(multipleRSquared(x, daily_minutes, beta_0))\n",
    "print(beta_0)"
   ]
  },
  {
   "cell_type": "code",
   "execution_count": null,
   "metadata": {
    "collapsed": true
   },
   "outputs": [],
   "source": []
  }
 ],
 "metadata": {
  "anaconda-cloud": {},
  "kernelspec": {
   "display_name": "Python [default]",
   "language": "python",
   "name": "python3"
  },
  "language_info": {
   "codemirror_mode": {
    "name": "ipython",
    "version": 3
   },
   "file_extension": ".py",
   "mimetype": "text/x-python",
   "name": "python",
   "nbconvert_exporter": "python",
   "pygments_lexer": "ipython3",
   "version": "3.5.2"
  }
 },
 "nbformat": 4,
 "nbformat_minor": 1
}
