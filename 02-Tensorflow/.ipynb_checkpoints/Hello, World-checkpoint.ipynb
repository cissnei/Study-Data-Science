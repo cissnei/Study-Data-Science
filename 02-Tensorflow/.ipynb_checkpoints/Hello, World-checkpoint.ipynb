{
 "cells": [
  {
   "cell_type": "code",
   "execution_count": 1,
   "metadata": {
    "collapsed": false
   },
   "outputs": [
    {
     "name": "stdout",
     "output_type": "stream",
     "text": [
      "Tensor(\"Const:0\", shape=(), dtype=string)\n"
     ]
    },
    {
     "data": {
      "text/plain": [
       "b'Hello, World!'"
      ]
     },
     "execution_count": 1,
     "metadata": {},
     "output_type": "execute_result"
    }
   ],
   "source": [
    "import tensorflow as tf\n",
    "\n",
    "# Node\n",
    "hello = tf.constant('Hello, World!')\n",
    "\n",
    "# Start tf session\n",
    "sess = tf.Session()\n",
    "\n",
    "print(hello) # Hello is operation, tensor.\n",
    "sess.run(hello)"
   ]
  },
  {
   "cell_type": "code",
   "execution_count": 2,
   "metadata": {
    "collapsed": false,
    "scrolled": true
   },
   "outputs": [
    {
     "data": {
      "text/plain": [
       "5"
      ]
     },
     "execution_count": 2,
     "metadata": {},
     "output_type": "execute_result"
    }
   ],
   "source": [
    "a = tf.constant(2)\n",
    "b = tf.constant(3)\n",
    "\n",
    "c = a+b\n",
    "\n",
    "sess.run(c)"
   ]
  },
  {
   "cell_type": "code",
   "execution_count": 3,
   "metadata": {
    "collapsed": false
   },
   "outputs": [
    {
     "name": "stdout",
     "output_type": "stream",
     "text": [
      "Addition with variables: 5\n",
      "Multiplication with variables: 6\n"
     ]
    }
   ],
   "source": [
    "c = tf.placeholder(tf.int16)\n",
    "d = tf.placeholder(tf.int16)\n",
    "\n",
    "add = tf.add(c,d)\n",
    "mul = tf.mul(c,d)\n",
    "\n",
    "with tf.Session() as sess:\n",
    "    print (\"Addition with variables: %i\" % sess.run(add, feed_dict={c:2, d:3}))\n",
    "    print (\"Multiplication with variables: %i\" % sess.run(mul, feed_dict={c:2, d:3}))\n"
   ]
  },
  {
   "cell_type": "code",
   "execution_count": 28,
   "metadata": {
    "collapsed": false
   },
   "outputs": [
    {
     "name": "stdout",
     "output_type": "stream",
     "text": [
      "0 0.919434 [ 2.13872838] [ 0.9569912]\n",
      "50 0.0571887 [ 1.27774811] [ 2.36861348]\n",
      "100 0.00501811 [ 1.08227479] [ 2.81297016]\n",
      "150 0.000440327 [ 1.0243715] [ 2.94459796]\n",
      "200 3.86367e-05 [ 1.00721931] [ 2.98358893]\n",
      "250 3.39094e-06 [ 1.00213861] [ 2.99513841]\n",
      "300 2.97692e-07 [ 1.0006336] [ 2.99855971]\n",
      "350 2.61831e-08 [ 1.00018775] [ 2.99957299]\n",
      "400 2.29503e-09 [ 1.00005567] [ 2.9998734]\n",
      "450 2.0079e-10 [ 1.00001645] [ 2.99996281]\n",
      "500 1.83415e-11 [ 1.00000489] [ 2.99998879]\n",
      "550 1.91373e-12 [ 1.00000167] [ 2.99999619]\n",
      "600 1.91373e-12 [ 1.00000167] [ 2.99999619]\n",
      "650 1.91373e-12 [ 1.00000167] [ 2.99999619]\n",
      "700 1.91373e-12 [ 1.00000167] [ 2.99999619]\n",
      "750 1.91373e-12 [ 1.00000167] [ 2.99999619]\n",
      "800 1.91373e-12 [ 1.00000167] [ 2.99999619]\n",
      "850 1.91373e-12 [ 1.00000167] [ 2.99999619]\n",
      "900 1.91373e-12 [ 1.00000167] [ 2.99999619]\n",
      "950 1.91373e-12 [ 1.00000167] [ 2.99999619]\n",
      "1000 1.91373e-12 [ 1.00000167] [ 2.99999619]\n",
      "1050 1.91373e-12 [ 1.00000167] [ 2.99999619]\n",
      "1100 1.91373e-12 [ 1.00000167] [ 2.99999619]\n",
      "1150 1.91373e-12 [ 1.00000167] [ 2.99999619]\n",
      "1200 1.91373e-12 [ 1.00000167] [ 2.99999619]\n",
      "1250 1.91373e-12 [ 1.00000167] [ 2.99999619]\n",
      "1300 1.91373e-12 [ 1.00000167] [ 2.99999619]\n",
      "1350 1.91373e-12 [ 1.00000167] [ 2.99999619]\n",
      "1400 1.91373e-12 [ 1.00000167] [ 2.99999619]\n",
      "1450 1.91373e-12 [ 1.00000167] [ 2.99999619]\n",
      "1500 1.91373e-12 [ 1.00000167] [ 2.99999619]\n",
      "1550 1.91373e-12 [ 1.00000167] [ 2.99999619]\n",
      "1600 1.91373e-12 [ 1.00000167] [ 2.99999619]\n",
      "1650 1.91373e-12 [ 1.00000167] [ 2.99999619]\n",
      "1700 1.91373e-12 [ 1.00000167] [ 2.99999619]\n",
      "1750 1.91373e-12 [ 1.00000167] [ 2.99999619]\n",
      "1800 1.91373e-12 [ 1.00000167] [ 2.99999619]\n",
      "1850 1.91373e-12 [ 1.00000167] [ 2.99999619]\n",
      "1900 1.91373e-12 [ 1.00000167] [ 2.99999619]\n",
      "1950 1.91373e-12 [ 1.00000167] [ 2.99999619]\n",
      "2000 1.91373e-12 [ 1.00000167] [ 2.99999619]\n",
      "[ 8.00000477]\n",
      "[ 5.50000048]\n"
     ]
    }
   ],
   "source": [
    "x_data = [1,2,3]\n",
    "y_data = [4,5,6]\n",
    "\n",
    "W = tf.Variable(tf.random_uniform([1], -1.0, 1.0))\n",
    "b = tf.Variable(tf.random_uniform([1], -1.0, 1.0))\n",
    "\n",
    "X = tf.placeholder(tf.float32)\n",
    "Y = tf.placeholder(tf.float32)\n",
    "\n",
    "hypothesis = W * X + b\n",
    "\n",
    "cost = tf.reduce_mean(tf.square(hypothesis - Y))\n",
    "\n",
    "a = tf.Variable(0.1) # learning rate, alpha\n",
    "optimizer = tf.train.GradientDescentOptimizer(a)\n",
    "train = optimizer.minimize(cost)\n",
    "\n",
    "init = tf.global_variables_initializer()\n",
    "\n",
    "sess = tf.Session()\n",
    "sess.run(init)\n",
    "\n",
    "\"\"\"\n",
    "Placeholder를 사용하면 Session을 시작할 때 값을 정해주어 모델을 쉽게\n",
    "재활용할 수 있도록 도와준다.\n",
    "\"\"\"\n",
    "\n",
    "for step in range(2001):\n",
    "    sess.run(train, feed_dict={X:x_data, Y:y_data})\n",
    "    if step % 50 == 0 :\n",
    "        print(step, sess.run(cost, feed_dict={X:x_data, Y:y_data}), sess.run(W), sess.run(b))\n",
    "        \n",
    "print(sess.run(hypothesis, feed_dict={X:5}))\n",
    "print(sess.run(hypothesis, feed_dict={X:2.5}))\n"
   ]
  },
  {
   "cell_type": "code",
   "execution_count": null,
   "metadata": {
    "collapsed": true
   },
   "outputs": [],
   "source": []
  }
 ],
 "metadata": {
  "anaconda-cloud": {},
  "kernelspec": {
   "display_name": "Python [default]",
   "language": "python",
   "name": "python3"
  },
  "language_info": {
   "codemirror_mode": {
    "name": "ipython",
    "version": 3
   },
   "file_extension": ".py",
   "mimetype": "text/x-python",
   "name": "python",
   "nbconvert_exporter": "python",
   "pygments_lexer": "ipython3",
   "version": "3.5.2"
  }
 },
 "nbformat": 4,
 "nbformat_minor": 1
}
