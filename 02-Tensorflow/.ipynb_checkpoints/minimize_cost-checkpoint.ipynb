{
 "cells": [
  {
   "cell_type": "code",
   "execution_count": 7,
   "metadata": {
    "collapsed": true
   },
   "outputs": [],
   "source": [
    "import tensorflow as tf\n",
    "from matplotlib import pyplot as plt"
   ]
  },
  {
   "cell_type": "code",
   "execution_count": 15,
   "metadata": {
    "collapsed": false
   },
   "outputs": [
    {
     "name": "stdout",
     "output_type": "stream",
     "text": [
      "-3.0 131.667\n",
      "-2.9000000000000004 126.78\n",
      "-2.8000000000000003 121.987\n",
      "-2.7 117.287\n",
      "-2.6 112.68\n",
      "-2.5 108.167\n",
      "-2.4000000000000004 103.747\n",
      "-2.3000000000000003 99.42\n",
      "-2.2 95.1867\n",
      "-2.1 91.0467\n",
      "-2.0 87.0\n",
      "-1.9000000000000001 83.0467\n",
      "-1.8 79.1867\n",
      "-1.7000000000000002 75.42\n",
      "-1.6 71.7467\n",
      "-1.5 68.1667\n",
      "-1.4000000000000001 64.68\n",
      "-1.3 61.2867\n",
      "-1.2000000000000002 57.9867\n",
      "-1.1 54.78\n",
      "-1.0 51.6667\n",
      "-0.9 48.6467\n",
      "-0.8 45.72\n",
      "-0.7000000000000001 42.8867\n",
      "-0.6000000000000001 40.1467\n",
      "-0.5 37.5\n",
      "-0.4 34.9467\n",
      "-0.30000000000000004 32.4867\n",
      "-0.2 30.12\n",
      "-0.1 27.8467\n",
      "0.0 25.6667\n",
      "0.1 23.58\n",
      "0.2 21.5867\n",
      "0.30000000000000004 19.6867\n",
      "0.4 17.88\n",
      "0.5 16.1667\n",
      "0.6000000000000001 14.5467\n",
      "0.7000000000000001 13.02\n",
      "0.8 11.5867\n",
      "0.9 10.2467\n",
      "1.0 9.0\n",
      "1.1 7.84667\n",
      "1.2000000000000002 6.78667\n",
      "1.3 5.82\n",
      "1.4000000000000001 4.94667\n",
      "1.5 4.16667\n",
      "1.6 3.48\n",
      "1.7000000000000002 2.88667\n",
      "1.8 2.38667\n",
      "1.9000000000000001 1.98\n",
      "2.0 1.66667\n",
      "2.1 1.44667\n",
      "2.2 1.32\n",
      "2.3000000000000003 1.28667\n",
      "2.4000000000000004 1.34667\n",
      "2.5 1.5\n",
      "2.6 1.74667\n",
      "2.7 2.08667\n",
      "2.8000000000000003 2.52\n",
      "2.9000000000000004 3.04667\n",
      "3.0 3.66667\n",
      "3.1 4.38\n",
      "3.2 5.18667\n",
      "3.3000000000000003 6.08667\n",
      "3.4000000000000004 7.08\n",
      "3.5 8.16667\n",
      "3.6 9.34666\n",
      "3.7 10.62\n",
      "3.8000000000000003 11.9867\n",
      "3.9000000000000004 13.4467\n",
      "4.0 15.0\n",
      "4.1000000000000005 16.6467\n",
      "4.2 18.3867\n",
      "4.3 20.22\n",
      "4.4 22.1467\n",
      "4.5 24.1667\n",
      "4.6000000000000005 26.28\n",
      "4.7 28.4867\n",
      "4.800000000000001 30.7867\n",
      "4.9 33.18\n"
     ]
    },
    {
     "data": {
      "image/png": "[encoded data removed]",
      "text/plain": [
       "<matplotlib.figure.Figure at 0x1d877fd6470>"
      ]
     },
     "metadata": {},
     "output_type": "display_data"
    }
   ],
   "source": [
    "X = [1., 2., 3.]\n",
    "Y = [4., 5., 6.]\n",
    "m = n_samples = len(X)\n",
    "\n",
    "# Set model weight\n",
    "W = tf.placeholder(tf.float32)\n",
    "\n",
    "# Linear model\n",
    "hypothesis = tf.mul(X, W)\n",
    "\n",
    "# Cost function\n",
    "cost = tf.reduce_sum(tf.pow(hypothesis-Y, 2))/(m)\n",
    "\n",
    "# Initialize\n",
    "init = tf.global_variables_initializer()\n",
    "\n",
    "# For graphs\n",
    "W_val = []\n",
    "cost_val = []\n",
    "\n",
    "# Launch the graph\n",
    "sess = tf.Session()\n",
    "sess.run(init)\n",
    "for i in range(-30, 50):\n",
    "    print(i*0.1, sess.run(cost, feed_dict={W: i*0.1}))\n",
    "    W_val.append(i*0.1)\n",
    "    cost_val.append(sess.run(cost, feed_dict={W: i*0.1}))\n",
    "    \n",
    "# Graphic display\n",
    "plt.plot(W_val, cost_val, 'bo')\n",
    "plt.ylabel('Cost')\n",
    "plt.xlabel('W')\n",
    "plt.show()\n"
   ]
  },
  {
   "cell_type": "markdown",
   "metadata": {},
   "source": [
    "```python\n",
    "cost = tf.reduce_sum(tf.pow(hypothesis-Y, 2))/(m)\n",
    "```\n",
    "$$ cost(W) = \\frac{1}{m} \\sum^m_{i=1}(Wx^{(i)}-y^{(i)})^2$$"
   ]
  },
  {
   "cell_type": "code",
   "execution_count": 21,
   "metadata": {
    "collapsed": false
   },
   "outputs": [
    {
     "name": "stdout",
     "output_type": "stream",
     "text": [
      "0 94.4213 [-3.49812579]\n",
      "1 26.8576 [-1.39900017]\n",
      "2 7.6395 [-0.27946675]\n",
      "3 2.17301 [ 0.31761771]\n",
      "4 0.618101 [ 0.6360628]\n",
      "5 0.175815 [ 0.80590016]\n",
      "6 0.0500097 [ 0.89648008]\n",
      "7 0.014225 [ 0.94478935]\n",
      "8 0.00404622 [ 0.97055435]\n",
      "9 0.00115092 [ 0.98429567]\n",
      "10 0.000327373 [ 0.99162436]\n",
      "11 9.31195e-05 [ 0.99553299]\n",
      "12 2.64877e-05 [ 0.9976176]\n",
      "13 7.53404e-06 [ 0.99872941]\n",
      "14 2.14303e-06 [ 0.99932235]\n",
      "15 6.09413e-07 [ 0.99963862]\n",
      "16 1.73445e-07 [ 0.99980724]\n",
      "17 4.93461e-08 [ 0.99989718]\n",
      "18 1.40327e-08 [ 0.99994516]\n",
      "19 3.99347e-09 [ 0.99997073]\n",
      "20 1.13435e-09 [ 0.99998438]\n",
      "21 3.24955e-10 [ 0.99999166]\n",
      "22 9.2727e-11 [ 0.99999553]\n",
      "23 2.65269e-11 [ 0.99999762]\n",
      "24 7.46188e-12 [ 0.99999875]\n",
      "25 1.92912e-12 [ 0.99999934]\n",
      "26 5.16328e-13 [ 0.99999964]\n",
      "27 1.29082e-13 [ 0.99999982]\n",
      "28 9.9476e-14 [ 0.99999988]\n",
      "29 2.4869e-14 [ 0.99999994]\n",
      "30 0.0 [ 1.]\n",
      "31 0.0 [ 1.]\n",
      "32 0.0 [ 1.]\n",
      "33 0.0 [ 1.]\n",
      "34 0.0 [ 1.]\n",
      "35 0.0 [ 1.]\n",
      "36 0.0 [ 1.]\n",
      "37 0.0 [ 1.]\n",
      "38 0.0 [ 1.]\n",
      "39 0.0 [ 1.]\n",
      "40 0.0 [ 1.]\n",
      "41 0.0 [ 1.]\n",
      "42 0.0 [ 1.]\n",
      "43 0.0 [ 1.]\n",
      "44 0.0 [ 1.]\n",
      "45 0.0 [ 1.]\n",
      "46 0.0 [ 1.]\n",
      "47 0.0 [ 1.]\n",
      "48 0.0 [ 1.]\n",
      "49 0.0 [ 1.]\n"
     ]
    }
   ],
   "source": [
    "x_data = [1., 2., 3.,]\n",
    "y_data = [1., 2., 3.,]\n",
    "\n",
    "W = tf.Variable(tf.random_uniform([1], -10.0, 10.0))\n",
    "\n",
    "X = tf.placeholder(tf.float32)\n",
    "Y = tf.placeholder(tf.float32)\n",
    "\n",
    "hypothesis = W * X\n",
    "\n",
    "cost = tf.reduce_mean(tf.square(hypothesis - Y))\n",
    "\n",
    "descent = W - tf.mul(0.1, tf.reduce_mean(tf.mul((tf.mul(W, X) - Y), X)))\n",
    "update = W.assign(descent)\n",
    "\n",
    "# initialize\n",
    "\n",
    "init = tf.global_variables_initializer()\n",
    "\n",
    "sess = tf.Session()\n",
    "sess.run(init)\n",
    "\n",
    "for step in range(50):\n",
    "    sess.run(update, feed_dict={X:x_data, Y:y_data})\n",
    "    print(step, sess.run(cost,  feed_dict={X:x_data, Y:y_data}), sess.run(W))"
   ]
  },
  {
   "cell_type": "code",
   "execution_count": null,
   "metadata": {
    "collapsed": true
   },
   "outputs": [],
   "source": []
  }
 ],
 "metadata": {
  "anaconda-cloud": {},
  "kernelspec": {
   "display_name": "Python [default]",
   "language": "python",
   "name": "python3"
  },
  "language_info": {
   "codemirror_mode": {
    "name": "ipython",
    "version": 3
   },
   "file_extension": ".py",
   "mimetype": "text/x-python",
   "name": "python",
   "nbconvert_exporter": "python",
   "pygments_lexer": "ipython3",
   "version": "3.5.2"
  }
 },
 "nbformat": 4,
 "nbformat_minor": 1
}
