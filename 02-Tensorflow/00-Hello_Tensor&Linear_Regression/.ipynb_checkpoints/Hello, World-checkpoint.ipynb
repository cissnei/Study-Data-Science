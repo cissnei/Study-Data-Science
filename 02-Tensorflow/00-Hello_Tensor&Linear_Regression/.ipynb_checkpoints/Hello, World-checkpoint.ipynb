{
 "cells": [
  {
   "cell_type": "code",
   "execution_count": 2,
   "metadata": {
    "collapsed": false
   },
   "outputs": [
    {
     "name": "stdout",
     "output_type": "stream",
     "text": [
      "Tensor(\"Const:0\", shape=(), dtype=string)\n"
     ]
    },
    {
     "data": {
      "text/plain": [
       "b'Hello, World!'"
      ]
     },
     "execution_count": 2,
     "metadata": {},
     "output_type": "execute_result"
    }
   ],
   "source": [
    "import tensorflow as tf\n",
    "\n",
    "# Node\n",
    "hello = tf.constant('Hello, World!')\n",
    "\n",
    "# Start tf session\n",
    "sess = tf.Session()\n",
    "\n",
    "print(hello) # Hello is operation, tensor.\n",
    "sess.run(hello)"
   ]
  },
  {
   "cell_type": "code",
   "execution_count": 2,
   "metadata": {
    "collapsed": false,
    "scrolled": true
   },
   "outputs": [
    {
     "data": {
      "text/plain": [
       "5"
      ]
     },
     "execution_count": 2,
     "metadata": {},
     "output_type": "execute_result"
    }
   ],
   "source": [
    "a = tf.constant(2)\n",
    "b = tf.constant(3)\n",
    "\n",
    "c = a+b\n",
    "\n",
    "sess.run(c)"
   ]
  },
  {
   "cell_type": "code",
   "execution_count": 3,
   "metadata": {
    "collapsed": false
   },
   "outputs": [
    {
     "name": "stdout",
     "output_type": "stream",
     "text": [
      "Addition with variables: 5\n",
      "Multiplication with variables: 6\n"
     ]
    }
   ],
   "source": [
    "c = tf.placeholder(tf.int16)\n",
    "d = tf.placeholder(tf.int16)\n",
    "\n",
    "add = tf.add(c,d)\n",
    "mul = tf.mul(c,d)\n",
    "\n",
    "with tf.Session() as sess:\n",
    "    print (\"Addition with variables: %i\" % sess.run(add, feed_dict={c:2, d:3}))\n",
    "    print (\"Multiplication with variables: %i\" % sess.run(mul, feed_dict={c:2, d:3}))\n"
   ]
  },
  {
   "cell_type": "code",
   "execution_count": 6,
   "metadata": {
    "collapsed": false
   },
   "outputs": [
    {
     "name": "stdout",
     "output_type": "stream",
     "text": [
      "0 36.3043 [ 3.91692638] [ 0.77411342]\n",
      "50 0.0664876 [ 1.21460056] [ 2.36904812]\n",
      "100 0.00318157 [ 1.04694426] [ 2.86197829]\n",
      "150 0.000152245 [ 1.01026917] [ 2.96980762]\n",
      "200 7.28545e-06 [ 1.0022465] [ 2.99339533]\n",
      "250 3.48412e-07 [ 1.00049138] [ 2.99855542]\n",
      "300 1.66411e-08 [ 1.00010741] [ 2.9996841]\n",
      "350 7.92639e-10 [ 1.00002337] [ 2.9999311]\n",
      "400 3.64508e-11 [ 1.00000501] [ 2.99998522]\n",
      "450 1.87583e-12 [ 1.00000107] [ 2.99999666]\n",
      "500 1.87583e-12 [ 1.00000107] [ 2.99999666]\n",
      "550 1.87583e-12 [ 1.00000107] [ 2.99999666]\n",
      "600 1.87583e-12 [ 1.00000107] [ 2.99999666]\n",
      "650 1.87583e-12 [ 1.00000107] [ 2.99999666]\n",
      "700 1.87583e-12 [ 1.00000107] [ 2.99999666]\n",
      "750 1.87583e-12 [ 1.00000107] [ 2.99999666]\n",
      "800 1.87583e-12 [ 1.00000107] [ 2.99999666]\n",
      "850 1.87583e-12 [ 1.00000107] [ 2.99999666]\n",
      "900 1.87583e-12 [ 1.00000107] [ 2.99999666]\n",
      "950 1.87583e-12 [ 1.00000107] [ 2.99999666]\n",
      "1000 1.87583e-12 [ 1.00000107] [ 2.99999666]\n",
      "1050 1.87583e-12 [ 1.00000107] [ 2.99999666]\n",
      "1100 1.87583e-12 [ 1.00000107] [ 2.99999666]\n",
      "1150 1.87583e-12 [ 1.00000107] [ 2.99999666]\n",
      "1200 1.87583e-12 [ 1.00000107] [ 2.99999666]\n",
      "1250 1.87583e-12 [ 1.00000107] [ 2.99999666]\n",
      "1300 1.87583e-12 [ 1.00000107] [ 2.99999666]\n",
      "1350 1.87583e-12 [ 1.00000107] [ 2.99999666]\n",
      "1400 1.87583e-12 [ 1.00000107] [ 2.99999666]\n",
      "1450 1.87583e-12 [ 1.00000107] [ 2.99999666]\n",
      "1500 1.87583e-12 [ 1.00000107] [ 2.99999666]\n",
      "1550 1.87583e-12 [ 1.00000107] [ 2.99999666]\n",
      "1600 1.87583e-12 [ 1.00000107] [ 2.99999666]\n",
      "1650 1.87583e-12 [ 1.00000107] [ 2.99999666]\n",
      "1700 1.87583e-12 [ 1.00000107] [ 2.99999666]\n",
      "1750 1.87583e-12 [ 1.00000107] [ 2.99999666]\n",
      "1800 1.87583e-12 [ 1.00000107] [ 2.99999666]\n",
      "1850 1.87583e-12 [ 1.00000107] [ 2.99999666]\n",
      "1900 1.87583e-12 [ 1.00000107] [ 2.99999666]\n",
      "1950 1.87583e-12 [ 1.00000107] [ 2.99999666]\n",
      "2000 1.87583e-12 [ 1.00000107] [ 2.99999666]\n",
      "[ 8.00000191]\n",
      "[ 5.49999905]\n"
     ]
    }
   ],
   "source": [
    "x_data = [1,2,3,4]\n",
    "y_data = [4,5,6,7]\n",
    "\n",
    "W = tf.Variable(tf.random_uniform([1], -1.0, 1.0))\n",
    "b = tf.Variable(tf.random_uniform([1], -1.0, 1.0))\n",
    "\n",
    "X = tf.placeholder(tf.float32)\n",
    "Y = tf.placeholder(tf.float32)\n",
    "\n",
    "hypothesis = W * X + b\n",
    "\n",
    "cost = tf.reduce_mean(tf.square(hypothesis - Y))\n",
    "\n",
    "a = tf.Variable(0.1) # learning rate, alpha\n",
    "optimizer = tf.train.GradientDescentOptimizer(a)\n",
    "train = optimizer.minimize(cost)\n",
    "\n",
    "init = tf.global_variables_initializer()\n",
    "\n",
    "sess = tf.Session()\n",
    "sess.run(init)\n",
    "\n",
    "\"\"\"\n",
    "Placeholder를 사용하면 Session을 시작할 때 값을 정해주어 모델을 쉽게\n",
    "재활용할 수 있도록 도와준다.\n",
    "\"\"\"\n",
    "\n",
    "for step in range(2001):\n",
    "    sess.run(train, feed_dict={X:x_data, Y:y_data})\n",
    "    if step % 50 == 0 :\n",
    "        print(step, sess.run(cost, feed_dict={X:x_data, Y:y_data}), sess.run(W), sess.run(b))\n",
    "        \n",
    "print(sess.run(hypothesis, feed_dict={X:5}))\n",
    "print(sess.run(hypothesis, feed_dict={X:2.5}))\n"
   ]
  },
  {
   "cell_type": "code",
   "execution_count": null,
   "metadata": {
    "collapsed": true
   },
   "outputs": [],
   "source": []
  }
 ],
 "metadata": {
  "anaconda-cloud": {},
  "kernelspec": {
   "display_name": "Python [default]",
   "language": "python",
   "name": "python3"
  },
  "language_info": {
   "codemirror_mode": {
    "name": "ipython",
    "version": 3
   },
   "file_extension": ".py",
   "mimetype": "text/x-python",
   "name": "python",
   "nbconvert_exporter": "python",
   "pygments_lexer": "ipython3",
   "version": "3.5.2"
  }
 },
 "nbformat": 4,
 "nbformat_minor": 1
}
