{
 "cells": [
  {
   "cell_type": "markdown",
   "metadata": {},
   "source": [
    "## Tensorboard\n",
    "\n",
    "Tensorflow에서는 복잡한 네트워크의 동작 상황이나 cost 등 수치의 변화를 관찰하며 디버깅을 할 수 있도록 Tensorboard라는 웹 UI를 지원한다. 아래와 같이 변수에 이름을 붙여주고 그룹을 나눠주면 Tensorboard에서 편리하게 사용할 수 있다."
   ]
  },
  {
   "cell_type": "code",
   "execution_count": 1,
   "metadata": {
    "collapsed": false
   },
   "outputs": [
    {
     "name": "stdout",
     "output_type": "stream",
     "text": [
      "[array([[  4.49579493e-05],\n",
      "       [  9.99918222e-01],\n",
      "       [  9.99936581e-01],\n",
      "       [  8.82414679e-05]], dtype=float32), array([[ 0.],\n",
      "       [ 1.],\n",
      "       [ 1.],\n",
      "       [ 0.]], dtype=float32), array([[ True],\n",
      "       [ True],\n",
      "       [ True],\n",
      "       [ True]], dtype=bool), 1.0]\n",
      "Accuracy: 1.0\n"
     ]
    }
   ],
   "source": [
    "import numpy as np\n",
    "import tensorflow as tf\n",
    "\n",
    "xy = np.loadtxt('train.txt', unpack=True)\n",
    "\n",
    "x_data = np.transpose(xy[0:-1])\n",
    "y_data = np.reshape(xy[-1],(4,1))\n",
    "\n",
    "X = tf.placeholder(tf.float32, name='X-input')\n",
    "Y = tf.placeholder(tf.float32, name='Y-input')\n",
    "\n",
    "# define 2 layer Neural Network - we will use 3 layers.\n",
    "W1 = tf.Variable(tf.random_uniform([2,10], -1.0, 1.0), name=\"W1\")\n",
    "W2 = tf.Variable(tf.random_uniform([10,10], -1.0, 1.0), name=\"W2\")\n",
    "W3 = tf.Variable(tf.random_uniform([10,10], -1.0, 1.0), name=\"W3\")\n",
    "W4 = tf.Variable(tf.random_uniform([10,1], -1.0, 1.0), name=\"W4\")\n",
    "\n",
    "b1 = tf.Variable(tf.zeros([10]), name=\"Bias1\")\n",
    "b2 = tf.Variable(tf.zeros([10]), name=\"Bias2\")\n",
    "b3 = tf.Variable(tf.zeros([10]), name=\"Bias3\")\n",
    "b4 = tf.Variable(tf.zeros([1]), name=\"Bias4\")\n",
    "\n",
    "# Draw histograms\n",
    "w1_hist = tf.summary.histogram(\"weight1\", W1)\n",
    "w2_hist = tf.summary.histogram(\"weight2\", W2)\n",
    "w3_hist = tf.summary.histogram(\"weight3\", W3)\n",
    "w4_hist = tf.summary.histogram(\"weight4\", W4)\n",
    "\n",
    "b1_hist = tf.summary.histogram(\"biases1\", b1)\n",
    "b2_hist = tf.summary.histogram(\"biases2\", b2)\n",
    "b3_hist = tf.summary.histogram(\"biases3\", b3)\n",
    "b4_hist = tf.summary.histogram(\"biases4\", b4)\n",
    "\n",
    "y_hist = tf.summary.histogram(\"y\", Y)\n",
    "\n",
    "# Our hypothesis\n",
    "with tf.name_scope(\"layer2\") as scope:\n",
    "    L2 = tf.sigmoid(tf.matmul(X, W1) + b1)\n",
    "\n",
    "with tf.name_scope(\"layer3\") as scope:\n",
    "    L3 = tf.sigmoid(tf.matmul(L2, W2) + b2)\n",
    "\n",
    "with tf.name_scope(\"layer4\") as scope:\n",
    "    L4 = tf.sigmoid(tf.matmul(L3, W3) + b2)\n",
    "    \n",
    "with tf.name_scope(\"layer5\") as scope:\n",
    "    hypothesis = tf.sigmoid(tf.matmul(L4, W4) + b4)\n",
    "    \n",
    "with tf.name_scope(\"cost\") as scope:\n",
    "    cost = -tf.reduce_mean(Y*tf.log(hypothesis) + (1-Y)*tf.log(1-hypothesis))\n",
    "    cost_sum = tf.summary.scalar(\"cost\", cost)\n",
    "        \n",
    "# Cross entropy cost function\n",
    "with tf.name_scope(\"train\") as scope:\n",
    "    optimizer = tf.train.GradientDescentOptimizer(0.3)\n",
    "    train = optimizer.minimize(cost)\n",
    "\n",
    "with tf.Session() as sess:\n",
    "    merged = tf.summary.merge_all()\n",
    "    writer = tf.summary.FileWriter(\"logs/xor_logs\" , sess.graph)\n",
    "      \n",
    "    tf.global_variables_initializer().run()\n",
    "    \n",
    "    for step in range(40001):\n",
    "        sess.run(train, feed_dict={X:x_data, Y:y_data})\n",
    "        if step % 2000 == 0:\n",
    "            summary, _ = sess.run( [merged, train], feed_dict={X:x_data, Y:y_data})\n",
    "            writer.add_summary(summary, step)\n",
    "            \n",
    "    correct = tf.equal( tf.floor(hypothesis+0.5), Y)\n",
    "    accuracy = tf.reduce_mean(tf.cast( correct, \"float\" ) )\n",
    "    \n",
    "    # Check accuracy\n",
    "    print( sess.run( [hypothesis, tf.floor(hypothesis+0.5), correct, accuracy], \n",
    "                   feed_dict={X:x_data, Y:y_data}) )\n",
    "    print( \"Accuracy:\", accuracy.eval({X:x_data, Y:y_data}) )\n",
    "    "
   ]
  }
 ],
 "metadata": {
  "anaconda-cloud": {},
  "kernelspec": {
   "display_name": "Python [default]",
   "language": "python",
   "name": "python3"
  },
  "language_info": {
   "codemirror_mode": {
    "name": "ipython",
    "version": 3
   },
   "file_extension": ".py",
   "mimetype": "text/x-python",
   "name": "python",
   "nbconvert_exporter": "python",
   "pygments_lexer": "ipython3",
   "version": "3.5.2"
  }
 },
 "nbformat": 4,
 "nbformat_minor": 1
}
