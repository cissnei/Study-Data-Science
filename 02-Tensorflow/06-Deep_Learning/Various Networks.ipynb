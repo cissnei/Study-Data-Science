{
 "cells": [
  {
   "cell_type": "markdown",
   "metadata": {},
   "source": [
    "## Feedforward Neural Network\n",
    "\n",
    "신경망을 층층이 어떤 너비로 쌓은 신경망을 뜻한다.\n",
    "\n",
    "### Fast Forward\n",
    "\n",
    "$$X - L1 - L2 - L3 - L4 - \\hat{y}$$\n",
    "\n",
    "위와 같은 FeedForward 신경망에서,\n",
    "\n",
    "$$X - L1 - L3 - L4 - \\hat{y}$$\n",
    "\n",
    "와 같은 방법으로 중간의 레이어를 뛰어 넘는 것을 Fast Forward 라고 한다.\n",
    "\n",
    "### Split & Merge\n",
    "\n",
    "$$\n",
    "x->\\begin{cases}\n",
    "L1_a -> L2_a -> L3_a\\\\\n",
    "L2_b -> L2_b -> L3_b\n",
    "\\end{cases}\n",
    "-> L4 -> L5 -> \\hat{y}\n",
    "$$\n",
    "\n",
    "#### Convolutional Neural Network의 개념\n",
    "\n",
    "$$\n",
    "\\begin{cases}\n",
    "x_1 -> L1_a -> L2_a -> L3_a\\\\\n",
    "x_2 -> L1_b -> L2_b -> L3_b\\\\\n",
    "x_3 -> L1_c -> L2_c -> L3_c\\\\\n",
    "\\end{cases}\n",
    "-> \\hat{y}\n",
    "$$\n",
    "\n",
    "### Recurrent Network(순환신경망)\n",
    "\n",
    "하나의 입력으로 출발한 네트워크를 서로 입출력을 주고받는 2차원 네트워크로 만든다.\n",
    "\n",
    "\n",
    "#### The only limit is your imagination\n",
    "\n",
    "그 밖에도 원래 알고 있었던 것처럼 네트워크의 깊이와 너비 또한 중요한 척도가 될 수 있다."
   ]
  }
 ],
 "metadata": {
  "kernelspec": {
   "display_name": "Python 3",
   "language": "python",
   "name": "python3"
  },
  "language_info": {
   "codemirror_mode": {
    "name": "ipython",
    "version": 3
   },
   "file_extension": ".py",
   "mimetype": "text/x-python",
   "name": "python",
   "nbconvert_exporter": "python",
   "pygments_lexer": "ipython3",
   "version": "3.5.2"
  }
 },
 "nbformat": 4,
 "nbformat_minor": 2
}
